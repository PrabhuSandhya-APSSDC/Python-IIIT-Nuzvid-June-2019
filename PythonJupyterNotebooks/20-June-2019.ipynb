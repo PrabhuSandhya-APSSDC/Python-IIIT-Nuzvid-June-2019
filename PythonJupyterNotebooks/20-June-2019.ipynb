{
 "cells": [
  {
   "cell_type": "markdown",
   "metadata": {},
   "source": [
    "## Day Objectives:\n",
    "- Regular Expressions\n",
    "    - Constructing Regular Expressions for various use cases\n",
    "    - Regular Expressions Module and related in Python\n",
    "    - Improving the contacts application with name and phone validation using regular expressions.\n",
    "- File Handling\n",
    "     - Text Files\n",
    "     - Upgrading the contacts application to store contact info in a text file"
   ]
  },
  {
   "cell_type": "markdown",
   "metadata": {},
   "source": [
    "### Regular Expressions\n",
    "- Pattern Matching\n",
    "- Symbolic Notation of a pattern\n",
    "    - Pattern : Format which repeats\n",
    "    - Pattern(RE) - It represents the set of all data which matches that pattern.\n",
    "- [0-9] Represents any number or digit\n",
    "- [a-z] Represents lower case alphabets\n",
    "- [A-Z] Represents Upper case alphabets\n",
    "- [2468] Represents single digit multiples of 2. order is not important. we can give any order eg: [4628] , [8642] etc.,"
   ]
  },
  {
   "cell_type": "markdown",
   "metadata": {},
   "source": [
    "####  ^[0-9]{1}$ -> Represents that string has to start and end with a single digit number\n",
    "\n"
   ]
  },
  {
   "cell_type": "markdown",
   "metadata": {},
   "source": [
    "####  ^[1-9][0-9]*0$ -> Represents all digits that are multiples of 10"
   ]
  },
  {
   "cell_type": "code",
   "execution_count": null,
   "metadata": {},
   "outputs": [],
   "source": [
    "#### ^([1-9][0-9]*[05]$|^([5]))$  -> Represents all digits that are multiples of 5. \n",
    "#### ' * ' represents zero or more times. '+' represents one or more times"
   ]
  },
  {
   "cell_type": "markdown",
   "metadata": {},
   "source": [
    "#### ^[1-9][0-9]{9}$ -> Represents all 10 digit numbers"
   ]
  },
  {
   "cell_type": "markdown",
   "metadata": {},
   "source": [
    "#### ^[9876][0-9]{9}$ -> Regular Expression for validating mobile number"
   ]
  },
  {
   "cell_type": "markdown",
   "metadata": {},
   "source": [
    "#### ^[0-9a-z][0-9a-z_.]{4,13}[0-9a-z][@][0-9a-z]{3,18}[.][a-z]{2,4}$ -> Represents regular expression for email id."
   ]
  },
  {
   "cell_type": "markdown",
   "metadata": {},
   "source": [
    "[Regular Expression in Python](https://docs.python.org/3/library/re.html)"
   ]
  },
  {
   "cell_type": "code",
   "execution_count": null,
   "metadata": {},
   "outputs": [],
   "source": [
    "#### ^[a][a-z0-9!@#$%^&*]{3}[z]$  -> RE which starts with a and ends with z and length should be 5\n",
    "\n",
    "#### ^[a].*[z]$ -> RE which represents that string starts with a and ends with z. String length can be any.\n",
    "\n",
    "#### ' . ' in the above expression represents any digit or alphabet or special character"
   ]
  },
  {
   "cell_type": "code",
   "execution_count": 47,
   "metadata": {},
   "outputs": [],
   "source": [
    "## Function to validate an Indian Mobile Number\n",
    "import re # Reg Exp library of python\n",
    "def validateMobileNumber(n):\n",
    "    pattern = '^[9876][0-9]{9}$'\n",
    "    if re.match(pattern,str(n)):\n",
    "        return True\n",
    "    else:\n",
    "        return False"
   ]
  },
  {
   "cell_type": "code",
   "execution_count": 48,
   "metadata": {},
   "outputs": [
    {
     "data": {
      "text/plain": [
       "True"
      ]
     },
     "execution_count": 48,
     "metadata": {},
     "output_type": "execute_result"
    }
   ],
   "source": [
    "validateMobileNumber(9948426208)"
   ]
  },
  {
   "cell_type": "code",
   "execution_count": 94,
   "metadata": {},
   "outputs": [
    {
     "data": {
      "text/plain": [
       "True"
      ]
     },
     "execution_count": 94,
     "metadata": {},
     "output_type": "execute_result"
    }
   ],
   "source": [
    "def validateEmail(s):\n",
    "    pattern = '^[0-9a-z][0-9a-z_.]{4,13}[0-9a-z][@][0-9a-z]{3,18}[.][a-z]{2,4}$'\n",
    "    if re.match(pattern,s):\n",
    "        return True\n",
    "    else:\n",
    "        return False\n",
    "validateEmail('re.python@gmail.com')"
   ]
  },
  {
   "cell_type": "code",
   "execution_count": 87,
   "metadata": {},
   "outputs": [],
   "source": [
    "contacts={}\n",
    "def addContact(dic,key,value):\n",
    "    if key in contacts:\n",
    "        print('Contact already exists')\n",
    "    elif not validateMobileNumber(value[0]):\n",
    "        print('Mobile Number is invalid')\n",
    "    elif not validateEmail(value[1]):\n",
    "        print('Email is invalid')\n",
    "    elif key not in contacts and validateMobileNumber(value[0]) and validateEmail(value[1]):\n",
    "        dic[key] = value\n",
    "        print('Contact added successfully')\n",
    "\n",
    "def displayContacts(dic):\n",
    "    for key,value in dic.items():\n",
    "        print(key+\":\"+str(value))\n",
    "\n",
    "def updateContacts(dic,key,value):\n",
    "    dic[key]=value\n",
    "    return\n",
    "\n",
    "def deleteContact(dic,key):\n",
    "    dic.pop(key)\n",
    "    return\n",
    "\n",
    "def searchContact(key):\n",
    "    if contacts[key] in contacts:\n",
    "        return \n",
    "    "
   ]
  },
  {
   "cell_type": "code",
   "execution_count": 95,
   "metadata": {},
   "outputs": [
    {
     "name": "stdout",
     "output_type": "stream",
     "text": [
      "Contact added successfully\n"
     ]
    }
   ],
   "source": [
    "addContact(contacts,'Prasad',[8309102113,'himaprasad4059@gmail.com'])"
   ]
  },
  {
   "cell_type": "code",
   "execution_count": 96,
   "metadata": {},
   "outputs": [
    {
     "data": {
      "text/plain": [
       "dict_items([('Anu', [9963674059, 'anu4059@gmail.com']), ('Prasad', [8309102113, 'himaprasad4059@gmail.com'])])"
      ]
     },
     "execution_count": 96,
     "metadata": {},
     "output_type": "execute_result"
    }
   ],
   "source": [
    "contacts.items()"
   ]
  },
  {
   "cell_type": "code",
   "execution_count": 97,
   "metadata": {},
   "outputs": [
    {
     "name": "stdout",
     "output_type": "stream",
     "text": [
      "Anu:[9963674059, 'anu4059@gmail.com']\n",
      "Prasad:[8309102113, 'himaprasad4059@gmail.com']\n"
     ]
    }
   ],
   "source": [
    "displayContacts(contacts)"
   ]
  },
  {
   "cell_type": "code",
   "execution_count": null,
   "metadata": {},
   "outputs": [],
   "source": []
  }
 ],
 "metadata": {
  "kernelspec": {
   "display_name": "Python 3",
   "language": "python",
   "name": "python3"
  },
  "language_info": {
   "codemirror_mode": {
    "name": "ipython",
    "version": 3
   },
   "file_extension": ".py",
   "mimetype": "text/x-python",
   "name": "python",
   "nbconvert_exporter": "python",
   "pygments_lexer": "ipython3",
   "version": "3.7.3"
  }
 },
 "nbformat": 4,
 "nbformat_minor": 2
}
