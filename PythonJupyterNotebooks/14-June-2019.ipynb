{
 "cells": [
  {
   "cell_type": "markdown",
   "metadata": {},
   "source": [
    "## Day Objectives:\n",
    "\n",
    "   * Python data structures\n",
    "        * Lists\n",
    "        * Tuples\n",
    "        * Dictionaries\n",
    "   * Basic problem set on Data Structures\n",
    "   * Advanced Problem Set\n",
    "   * Python packages and modules\n",
    "        \n",
    " "
   ]
  },
  {
   "cell_type": "markdown",
   "metadata": {},
   "source": [
    "### Python Data Structures\n",
    "\n",
    "#### Lists"
   ]
  },
  {
   "cell_type": "code",
   "execution_count": 31,
   "metadata": {},
   "outputs": [
    {
     "data": {
      "text/plain": [
       "61.0"
      ]
     },
     "execution_count": 31,
     "metadata": {},
     "output_type": "execute_result"
    }
   ],
   "source": [
    "li = [123,978,654]\n",
    "\n",
    "li # Access the entire list\n",
    "\n",
    "li[1] # Access an element with index in a list\n",
    "\n",
    "li[1:] # Access all elements from second element to last element\n",
    "\n",
    "li[::-1] # Reverse of a list\n",
    "\n",
    "li[::2] # Accessing even index elements\n",
    "\n",
    "li[1::2] # Accessing odd index elements\n",
    "\n",
    "\n",
    "# Lists can be accessed and manipulated in two different ways\n",
    "    # Direct Referencing - [index]\n",
    "    # Indirect Referencing - through functions\n",
    "    \n",
    "li.append(235) # Adding an element to end of the list\n",
    "\n",
    "li.insert(1,100) # Adding an element using index( first parameter : index, second parameter: Value to be added)\n",
    "\n",
    "li.sort() # Sort elements in ascending order\n",
    "\n",
    "li.pop() # Removes and returns last element in a list\n",
    "\n",
    "li.pop(0) # Removes elements at a particular index\n",
    "\n",
    "li2 = [1,2,3,4,5]\n",
    "\n",
    "li.extend(li2) # Merges list 2 into list 1\n",
    "\n",
    "sum(li) # returns sum of all elements in a list\n",
    "\n",
    "max(li) # returns maximum element of the list\n",
    "\n",
    "len(li) # returns the length of the list\n",
    "\n",
    "sorted(li,reverse = True) # Reverse sort\n",
    "\n",
    "sum(li)/len(li) # Average of list elements\n",
    "\n",
    "sum(li[1::2])/len(li[1::2]) # Average of alternate elements"
   ]
  },
  {
   "cell_type": "markdown",
   "metadata": {},
   "source": [
    "### Function to identify the second largest element in the list"
   ]
  },
  {
   "cell_type": "code",
   "execution_count": 74,
   "metadata": {},
   "outputs": [
    {
     "data": {
      "text/plain": [
       "4"
      ]
     },
     "execution_count": 74,
     "metadata": {},
     "output_type": "execute_result"
    }
   ],
   "source": [
    "def secondLargest(li):\n",
    "    li.sort()\n",
    "    return li[-2]\n",
    "secondLargest([1,2,2,23,4,3,4,4])"
   ]
  },
  {
   "cell_type": "code",
   "execution_count": 72,
   "metadata": {},
   "outputs": [
    {
     "data": {
      "text/plain": [
       "4"
      ]
     },
     "execution_count": 72,
     "metadata": {},
     "output_type": "execute_result"
    }
   ],
   "source": [
    "def genericLargest(li,n):\n",
    "    li.sort()\n",
    "    return li[-n]\n",
    "genericLargest(li,5)"
   ]
  },
  {
   "cell_type": "code",
   "execution_count": 73,
   "metadata": {},
   "outputs": [
    {
     "data": {
      "text/plain": [
       "4"
      ]
     },
     "execution_count": 73,
     "metadata": {},
     "output_type": "execute_result"
    }
   ],
   "source": [
    "def secondLargestL(li):\n",
    "    m = 0\n",
    "    sl = 0\n",
    "    for i in range(len(li)):\n",
    "        if li[i] > m:\n",
    "            m = li[i]\n",
    "    for j in range(len(li)):\n",
    "        if li[j] != m:\n",
    "            if li[j] > sl:\n",
    "                sl = li[j]\n",
    "    return sl\n",
    "\n",
    "secondLargestL([1,2,3,4,4,4,5]) "
   ]
  },
  {
   "cell_type": "markdown",
   "metadata": {},
   "source": [
    "### Function to search for data in a list"
   ]
  },
  {
   "cell_type": "code",
   "execution_count": 98,
   "metadata": {},
   "outputs": [
    {
     "data": {
      "text/plain": [
       "5"
      ]
     },
     "execution_count": 98,
     "metadata": {},
     "output_type": "execute_result"
    }
   ],
   "source": [
    "# Search for the key in the list and return the index of the key. return -1 if key not found\n",
    "\n",
    "def linearSearch1(li,key):\n",
    "    l = len(li)\n",
    "    for i in range(l):\n",
    "        if key == li[i]:\n",
    "            return i\n",
    "    else:\n",
    "        return -1\n",
    "\n",
    "def linearSearch2(li,key):\n",
    "    for i in li:\n",
    "        if key == i:\n",
    "            return li.index(i)\n",
    "    else:\n",
    "        return -1\n",
    "    \n",
    "def linearSearch3(li,key):\n",
    "    try: \n",
    "        li.index(key)\n",
    "    except ValueError:\n",
    "        return -1\n",
    "\n",
    "def linearSearch4(li,key):\n",
    "    if key in li:\n",
    "        return li.index(key)\n",
    "    else:\n",
    "        return -1\n",
    "\n",
    "linearSearch4(li,123)"
   ]
  },
  {
   "cell_type": "code",
   "execution_count": 94,
   "metadata": {},
   "outputs": [
    {
     "data": {
      "text/plain": [
       "[1, 2, 3, 4, 5, 123, 235, 654]"
      ]
     },
     "execution_count": 94,
     "metadata": {},
     "output_type": "execute_result"
    }
   ],
   "source": [
    "li"
   ]
  },
  {
   "cell_type": "markdown",
   "metadata": {},
   "source": [
    "### Function to count the occurences of a character in the list\n",
    "\n",
    "### \"Python Programming\" m ->2"
   ]
  },
  {
   "cell_type": "code",
   "execution_count": 100,
   "metadata": {},
   "outputs": [
    {
     "data": {
      "text/plain": [
       "2"
      ]
     },
     "execution_count": 100,
     "metadata": {},
     "output_type": "execute_result"
    }
   ],
   "source": [
    "# We can do it using python func i.e count. \"string.count(char or string)\"\n",
    "def occuranceOfChar(string,char):\n",
    "    count = 0\n",
    "    for c in string:\n",
    "        if c == char:\n",
    "            count+=1\n",
    "    return count\n",
    "occuranceOfChar(\"Sandhya\",'a')"
   ]
  },
  {
   "cell_type": "code",
   "execution_count": 115,
   "metadata": {},
   "outputs": [
    {
     "data": {
      "text/plain": [
       "3"
      ]
     },
     "execution_count": 115,
     "metadata": {},
     "output_type": "execute_result"
    }
   ],
   "source": [
    "def occuranceOfSubStr(string,substr):\n",
    "    count = 0\n",
    "    l = len(substr)\n",
    "    for i in range(len(string)):\n",
    "        if substr == string[i:i+l]:\n",
    "            count+=1\n",
    "    return count\n",
    "        \n",
    "occuranceOfSubStr(\"abcabcddcbaaaa\",'aa')   "
   ]
  },
  {
   "cell_type": "code",
   "execution_count": null,
   "metadata": {},
   "outputs": [],
   "source": []
  }
 ],
 "metadata": {
  "kernelspec": {
   "display_name": "Python 3",
   "language": "python",
   "name": "python3"
  },
  "language_info": {
   "codemirror_mode": {
    "name": "ipython",
    "version": 3
   },
   "file_extension": ".py",
   "mimetype": "text/x-python",
   "name": "python",
   "nbconvert_exporter": "python",
   "pygments_lexer": "ipython3",
   "version": "3.7.3"
  }
 },
 "nbformat": 4,
 "nbformat_minor": 2
}
