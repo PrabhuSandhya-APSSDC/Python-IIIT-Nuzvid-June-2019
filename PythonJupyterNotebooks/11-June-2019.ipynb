{
 "cells": [
  {
   "cell_type": "markdown",
   "metadata": {},
   "source": [
    "## Python Basics\n",
    "\n",
    "### Python version 3.7\n",
    "\n",
    "- Scripting\n",
    "- Object Oriented\n",
    "- Functional \n",
    "- Procedural and\n",
    "- Symbolic Language"
   ]
  },
  {
   "cell_type": "code",
   "execution_count": 3,
   "metadata": {},
   "outputs": [
    {
     "name": "stdout",
     "output_type": "stream",
     "text": [
      "Good Morning All || Hello Python\n"
     ]
    }
   ],
   "source": [
    "# Python Comments\n",
    "print(\"Good Morning\",\"All\",end=\" || \")\n",
    "print(\"Hello Python\")"
   ]
  },
  {
   "cell_type": "markdown",
   "metadata": {},
   "source": [
    "### Assignment"
   ]
  },
  {
   "cell_type": "code",
   "execution_count": 7,
   "metadata": {},
   "outputs": [
    {
     "data": {
      "text/plain": [
       "20"
      ]
     },
     "execution_count": 7,
     "metadata": {},
     "output_type": "execute_result"
    }
   ],
   "source": [
    "n1 = 12345  # Single Variable Assignment\n",
    "\n",
    "n2 = n3 = n4 = n1 # Multi Variable Assignment of the same value\n",
    "\n",
    "n3\n",
    "\n",
    "a,b,c = 10,20,30 # Multi Variable Assignment of different values\n",
    "\n",
    "b\n"
   ]
  },
  {
   "cell_type": "code",
   "execution_count": 6,
   "metadata": {},
   "outputs": [
    {
     "data": {
      "text/plain": [
       "12345"
      ]
     },
     "execution_count": 6,
     "metadata": {},
     "output_type": "execute_result"
    }
   ],
   "source": [
    "n2"
   ]
  },
  {
   "cell_type": "markdown",
   "metadata": {},
   "source": [
    "### Arithmetic Operators\n",
    "\n",
    "- +\n",
    "- -\n",
    "- *\n",
    "- /\n",
    "- ^\n",
    "- %\n",
    "- **"
   ]
  },
  {
   "cell_type": "code",
   "execution_count": 8,
   "metadata": {},
   "outputs": [
    {
     "data": {
      "text/plain": [
       "774340.125"
      ]
     },
     "execution_count": 8,
     "metadata": {},
     "output_type": "execute_result"
    }
   ],
   "source": [
    "n1 + n2 * n3/(a*b)"
   ]
  },
  {
   "cell_type": "code",
   "execution_count": 12,
   "metadata": {},
   "outputs": [
    {
     "data": {
      "text/plain": [
       "12528328468279800008275836185265394560488525390625"
      ]
     },
     "execution_count": 12,
     "metadata": {},
     "output_type": "execute_result"
    }
   ],
   "source": [
    "n3 = n1 ** 12\n",
    "\n",
    "n3"
   ]
  },
  {
   "cell_type": "code",
   "execution_count": 15,
   "metadata": {},
   "outputs": [
    {
     "data": {
      "text/plain": [
       "int"
      ]
     },
     "execution_count": 15,
     "metadata": {},
     "output_type": "execute_result"
    }
   ],
   "source": [
    "type(n3)"
   ]
  },
  {
   "cell_type": "code",
   "execution_count": 14,
   "metadata": {},
   "outputs": [
    {
     "data": {
      "text/plain": [
       "50"
      ]
     },
     "execution_count": 14,
     "metadata": {},
     "output_type": "execute_result"
    }
   ],
   "source": [
    "len(str(n3))"
   ]
  },
  {
   "cell_type": "markdown",
   "metadata": {},
   "source": [
    "### Data Types\n",
    "\n",
    "* int\n",
    "* float\n",
    "* string\n",
    "* double"
   ]
  },
  {
   "cell_type": "code",
   "execution_count": 20,
   "metadata": {},
   "outputs": [
    {
     "data": {
      "text/plain": [
       "str"
      ]
     },
     "execution_count": 20,
     "metadata": {},
     "output_type": "execute_result"
    }
   ],
   "source": [
    "type(a)\n",
    "\n",
    "s1=\"Sandhya\"\n",
    "\n",
    "type(s1)"
   ]
  },
  {
   "cell_type": "markdown",
   "metadata": {},
   "source": [
    "### Conditionals"
   ]
  },
  {
   "cell_type": "code",
   "execution_count": 18,
   "metadata": {},
   "outputs": [
    {
     "data": {
      "text/plain": [
       "False"
      ]
     },
     "execution_count": 18,
     "metadata": {},
     "output_type": "execute_result"
    }
   ],
   "source": [
    "atoms = 10 ** 82\n",
    "atoms < 10 ** 79"
   ]
  },
  {
   "cell_type": "code",
   "execution_count": 21,
   "metadata": {},
   "outputs": [
    {
     "name": "stdout",
     "output_type": "stream",
     "text": [
      "FALSE\n"
     ]
    }
   ],
   "source": [
    "if atoms < 10 ** 9:\n",
    "    print(\"TRUE\")\n",
    "else:\n",
    "    print(\"FALSE\")"
   ]
  },
  {
   "cell_type": "code",
   "execution_count": 2,
   "metadata": {},
   "outputs": [
    {
     "name": "stdout",
     "output_type": "stream",
     "text": [
      "Even\n"
     ]
    }
   ],
   "source": [
    "## Check if a number is even\n",
    "\n",
    "n=128\n",
    "\n",
    "if n%2 == 0:\n",
    "    print(\"Even\")\n",
    "else:\n",
    "    print(\"Odd\")"
   ]
  },
  {
   "cell_type": "code",
   "execution_count": 8,
   "metadata": {},
   "outputs": [
    {
     "name": "stdout",
     "output_type": "stream",
     "text": [
      "Enter the first number:-1\n",
      "Enter the second number:-100\n",
      "Enter the third number:-50\n",
      "-1 is the greatest number\n"
     ]
    }
   ],
   "source": [
    "## Find the greatest of three numbers\n",
    "\n",
    "i = int(input(\"Enter the first number:\"))\n",
    "j = int(input(\"Enter the second number:\"))\n",
    "k = int(input(\"Enter the third number:\"))\n",
    "\n",
    "if i >= j and i >= k:\n",
    "    print(f'{i} is the greatest number')\n",
    "elif j >= i and j >= k:\n",
    "    print(f'{j} is the greatest number')\n",
    "else:\n",
    "    print(f'{k} is the greatest number')\n",
    "    "
   ]
  },
  {
   "cell_type": "code",
   "execution_count": 9,
   "metadata": {},
   "outputs": [
    {
     "name": "stdout",
     "output_type": "stream",
     "text": [
      "Enter the year:1994\n",
      "1994 is not a leap year\n"
     ]
    }
   ],
   "source": [
    "## Check if the year is a leap year\n",
    "year = int(input(\"Enter the year:\"))\n",
    "if (year %  400 == 0) or (year % 4 == 0 and year % 100 != 0):\n",
    "    print(f\"{year} is a leap year\")\n",
    "else:\n",
    "    print(f\"{year} is not a leap year\")"
   ]
  },
  {
   "cell_type": "code",
   "execution_count": 10,
   "metadata": {},
   "outputs": [
    {
     "name": "stdout",
     "output_type": "stream",
     "text": [
      "Enter any number:10\n",
      "Enter lower bound:19\n",
      "Enter upper bound:20\n",
      "Number is not in range\n"
     ]
    }
   ],
   "source": [
    "## Check if a number exists in a given range(inclusive)\n",
    "\n",
    "s = int(input(\"Enter any number:\"))\n",
    "lb = int(input(\"Enter lower bound:\"))\n",
    "ub = int(input(\"Enter upper bound:\"))\n",
    "\n",
    "if s >= lb and s <= ub:\n",
    "    print(\"Number is in range\")\n",
    "else:\n",
    "    print(\"Number is not in range\")"
   ]
  },
  {
   "cell_type": "code",
   "execution_count": 13,
   "metadata": {},
   "outputs": [
    {
     "data": {
      "text/plain": [
       "3"
      ]
     },
     "execution_count": 13,
     "metadata": {},
     "output_type": "execute_result"
    }
   ],
   "source": [
    "## Calculate the number of digits in a number\n",
    "n = 100\n",
    "len(str(n))"
   ]
  },
  {
   "cell_type": "code",
   "execution_count": 14,
   "metadata": {},
   "outputs": [
    {
     "name": "stdout",
     "output_type": "stream",
     "text": [
      "100 is multiple of 10\n"
     ]
    }
   ],
   "source": [
    "## Check if a number is multiple of 10\n",
    "if n%10 == 0:\n",
    "    print(f\"{n} is multiple of 10\")\n",
    "else:\n",
    "    print(f\"{n} is not multiple of 10\")"
   ]
  },
  {
   "cell_type": "code",
   "execution_count": 17,
   "metadata": {},
   "outputs": [
    {
     "name": "stdout",
     "output_type": "stream",
     "text": [
      "100 is factor of 1000\n"
     ]
    }
   ],
   "source": [
    "## Check if a number is factor of 1000\n",
    "if 1000 % 100 == 0:\n",
    "    print(f\"{n} is factor of 1000\")\n",
    "else:\n",
    "    print(f\"{n} is not a factor of 1000\")"
   ]
  },
  {
   "cell_type": "code",
   "execution_count": 27,
   "metadata": {},
   "outputs": [
    {
     "name": "stdout",
     "output_type": "stream",
     "text": [
      "Enter any string:sa\n",
      "Enter any number:12\n",
      "unequal\n"
     ]
    }
   ],
   "source": [
    "## Check if the string is equal to a number\n",
    "string = input(\"Enter any string:\")\n",
    "num = int(input(\"Enter any number:\"))\n",
    "\n",
    "n = str(num)\n",
    "\n",
    "if n == string:\n",
    "    print(\"equal\")\n",
    "else:\n",
    "    print(\"unequal\")"
   ]
  },
  {
   "cell_type": "code",
   "execution_count": 29,
   "metadata": {},
   "outputs": [
    {
     "name": "stdout",
     "output_type": "stream",
     "text": [
      "3.4641016151377544\n"
     ]
    }
   ],
   "source": [
    "## Calculate the square root of a number without using functions\n",
    "n = 12\n",
    "print(n ** (1/2))"
   ]
  },
  {
   "cell_type": "code",
   "execution_count": null,
   "metadata": {},
   "outputs": [],
   "source": [
    "## Calculate the number of nano seconds "
   ]
  }
 ],
 "metadata": {
  "kernelspec": {
   "display_name": "Python 3",
   "language": "python",
   "name": "python3"
  },
  "language_info": {
   "codemirror_mode": {
    "name": "ipython",
    "version": 3
   },
   "file_extension": ".py",
   "mimetype": "text/x-python",
   "name": "python",
   "nbconvert_exporter": "python",
   "pygments_lexer": "ipython3",
   "version": "3.7.3"
  }
 },
 "nbformat": 4,
 "nbformat_minor": 2
}
