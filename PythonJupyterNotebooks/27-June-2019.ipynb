{
 "cells": [
  {
   "cell_type": "code",
   "execution_count": 9,
   "metadata": {},
   "outputs": [
    {
     "name": "stdout",
     "output_type": "stream",
     "text": [
      "1 2\n",
      "1 3\n",
      "2 3\n"
     ]
    }
   ],
   "source": [
    "## Funtion to print all combinations of pairs of integers in a unique list.\n",
    "\n",
    "## [1,2,3] --> (1,2),(1,3),(2,3) --> ncr --> (n!/(n-r)!*r!) --> (3!/(3-2)! * 2!) Here n = no of elements in the list. \n",
    "\n",
    "## r = no.of combinations needed(here we need combination of two elements so r = 2)\n",
    "\n",
    "## [1,2,3,4]  --> (1,2) , (1,3) , (1,4) , (2,3) , (2,4) , (3,4)\n",
    "\n",
    "\n",
    "def combinations2(li):\n",
    "    for i in range(len(li)-1):\n",
    "        for j in range(i+1,len(li)):\n",
    "            print(li[i],li[j])\n",
    "        \n",
    "combinations([1,2,3]) "
   ]
  },
  {
   "cell_type": "code",
   "execution_count": 15,
   "metadata": {},
   "outputs": [
    {
     "name": "stdout",
     "output_type": "stream",
     "text": [
      "1 2 3\n",
      "1 2 4\n",
      "1 2 5\n",
      "1 3 4\n",
      "1 3 5\n",
      "1 4 5\n",
      "2 3 4\n",
      "2 3 5\n",
      "2 4 5\n",
      "3 4 5\n"
     ]
    }
   ],
   "source": [
    "## [1,2,3,4] --> (1,2,3) , (1,3,4) , (2,3,4) , (4,1,2)\n",
    "\n",
    "def combinations3(li):\n",
    "    for i in range(len(li)-1):\n",
    "        for j in range(i+1,len(li)):\n",
    "            for k in range(j+1,len(li)):\n",
    "                print(li[i],li[j],li[k])\n",
    "        \n",
    "combinations3([1,2,3,4,5]) "
   ]
  },
  {
   "cell_type": "code",
   "execution_count": 60,
   "metadata": {},
   "outputs": [
    {
     "data": {
      "text/plain": [
       "[1, 9, 8, 7, 6, 5, 4, 3, 2]"
      ]
     },
     "execution_count": 60,
     "metadata": {},
     "output_type": "execute_result"
    }
   ],
   "source": [
    "# For each pair of integers ,you find the absolute difference D between those integers and insert D into the array \n",
    "# (if it was not already present in the array)\n",
    "def absoluteDifferencePairs(li):\n",
    "    for i in range(len(li)):\n",
    "        for j in range(len(li)):\n",
    "            d = abs(li[i]-li[j])\n",
    "            if d not in li and d!=0:\n",
    "                    li.append(d)\n",
    "                    absoluteDifferencePairs(li)\n",
    "    return li\n",
    "absoluteDifferencePairs([1,9,8])"
   ]
  },
  {
   "cell_type": "code",
   "execution_count": 67,
   "metadata": {},
   "outputs": [
    {
     "name": "stdout",
     "output_type": "stream",
     "text": [
      "[[3, 6, 9, 12, 2], [3, 6, 9, 12, 2, 1, 4, 7, 10]]\n",
      "[[3, 6, 9, 12, 2, 1, 4, 7, 10], [3, 6, 9, 12, 2, 1, 4, 7, 10, 5, 8, 11]]\n",
      "[[3, 6, 9, 12, 2, 1, 4, 7, 10, 5, 8, 11], [3, 6, 9, 12, 2, 1, 4, 7, 10, 5, 8, 11]]\n"
     ]
    },
    {
     "data": {
      "text/plain": [
       "11"
      ]
     },
     "execution_count": 67,
     "metadata": {},
     "output_type": "execute_result"
    }
   ],
   "source": [
    "## second Method for above problem\n",
    "\n",
    "## For each pair of integers, you find the absolute difference D between those integers and insert D into \n",
    "## array(if it was not already present in array).\n",
    "\n",
    "## You repeat task 1 until the array becomes constant. This implies that the absolute difference between any two elements\n",
    "## in the array is also an element present in the array.\n",
    "\n",
    "## Write a program to find the Kth largest element of the array after all the operations have been performed. If there is no\n",
    "## such element print -1\n",
    "\n",
    "def medium(li,k):\n",
    "    while True:\n",
    "        li2 = differencePairs(li)\n",
    "        print(li2)\n",
    "        if li2[0] == li2[1]:\n",
    "            break\n",
    "    if len(li2[0]) >= k:\n",
    "        return sorted(li2[0],reverse = True)[k-1]\n",
    "    return -1\n",
    "\n",
    "def differencePairs(li):\n",
    "    cli = li.copy()\n",
    "    new_ele = []\n",
    "    for i in range(len(li)-1):\n",
    "        for j in range(i+1,len(li)):\n",
    "            d = abs(li[i]-li[j])\n",
    "            if d not in li and d not in new_ele:\n",
    "                new_ele.append(d)\n",
    "    li.extend(new_ele)\n",
    "    #print(li)\n",
    "    return [cli,li]\n",
    "li = [3,6,9,12,2]\n",
    "medium(li,2)                "
   ]
  },
  {
   "cell_type": "code",
   "execution_count": 64,
   "metadata": {},
   "outputs": [
    {
     "name": "stdout",
     "output_type": "stream",
     "text": [
      "[1, 3, 2]\n",
      "[1, 3, 2]\n",
      "[1, 3, 2]\n"
     ]
    }
   ],
   "source": [
    "## List Data Referencing vs Data Copy\n",
    "a = [1,2,3]\n",
    "b = [1,3,2]\n",
    "a = b.copy() # Data copy through indirect referencing\n",
    "print(a)\n",
    "a = b[:] # Data copy through direct referencing. All elements of b are copied to 'a'\n",
    "print(a)\n",
    "a = b\n",
    "print(a)\n"
   ]
  },
  {
   "cell_type": "markdown",
   "metadata": {},
   "source": [
    "### Set - Data Structure in Python\n",
    "\n",
    "Represented by '{}'  "
   ]
  },
  {
   "cell_type": "code",
   "execution_count": 72,
   "metadata": {},
   "outputs": [
    {
     "data": {
      "text/plain": [
       "{1, 2, 3, 4, 5}"
      ]
     },
     "execution_count": 72,
     "metadata": {},
     "output_type": "execute_result"
    }
   ],
   "source": [
    "a = {1,2,3,4,5}\n",
    "\n",
    "a"
   ]
  },
  {
   "cell_type": "code",
   "execution_count": 74,
   "metadata": {},
   "outputs": [
    {
     "data": {
      "text/plain": [
       "{1, 2, 3, 4, 5}"
      ]
     },
     "execution_count": 74,
     "metadata": {},
     "output_type": "execute_result"
    }
   ],
   "source": [
    "a = {1,2,3,4,4,4,5} \n",
    "a ## Doesn't encourage duplicate elements."
   ]
  },
  {
   "cell_type": "code",
   "execution_count": 77,
   "metadata": {},
   "outputs": [],
   "source": [
    "a.add(8) ## To add one element to a set. Sets are mutable."
   ]
  },
  {
   "cell_type": "code",
   "execution_count": 78,
   "metadata": {},
   "outputs": [
    {
     "data": {
      "text/plain": [
       "{1, 2, 3, 4, 5, 8}"
      ]
     },
     "execution_count": 78,
     "metadata": {},
     "output_type": "execute_result"
    }
   ],
   "source": [
    "a"
   ]
  },
  {
   "cell_type": "code",
   "execution_count": 81,
   "metadata": {},
   "outputs": [
    {
     "name": "stdout",
     "output_type": "stream",
     "text": [
      "1 2 3 4 5 8 "
     ]
    }
   ],
   "source": [
    "## We cannot access elements of set through indexing or slicing.\n",
    "## We can access through iteration.\n",
    "\n",
    "for i in a:\n",
    "    print(i , end = ' ')"
   ]
  },
  {
   "cell_type": "code",
   "execution_count": 82,
   "metadata": {},
   "outputs": [
    {
     "data": {
      "text/plain": [
       "{1, 2, 3, 4, 5, 7, 8, 9}"
      ]
     },
     "execution_count": 82,
     "metadata": {},
     "output_type": "execute_result"
    }
   ],
   "source": [
    "b = {7,8,9} # Adds multiple elements as long as they are unique.\n",
    "\n",
    "a.update(b)\n",
    "a"
   ]
  },
  {
   "cell_type": "code",
   "execution_count": 85,
   "metadata": {},
   "outputs": [],
   "source": [
    "li = {'sandy','siva','prabhu',1,2,9,6,-1} ## A set can also contain strings"
   ]
  },
  {
   "cell_type": "code",
   "execution_count": 86,
   "metadata": {},
   "outputs": [
    {
     "data": {
      "text/plain": [
       "{-1, 1, 2, 6, 9, 'prabhu', 'sandy', 'siva'}"
      ]
     },
     "execution_count": 86,
     "metadata": {},
     "output_type": "execute_result"
    }
   ],
   "source": [
    "li"
   ]
  },
  {
   "cell_type": "code",
   "execution_count": 91,
   "metadata": {},
   "outputs": [],
   "source": [
    "li.discard(-10) ## Removes the given element from the set."
   ]
  },
  {
   "cell_type": "code",
   "execution_count": 92,
   "metadata": {},
   "outputs": [
    {
     "data": {
      "text/plain": [
       "{1, 2, 6, 9, 'prabhu', 'sandy', 'siva'}"
      ]
     },
     "execution_count": 92,
     "metadata": {},
     "output_type": "execute_result"
    }
   ],
   "source": [
    "li"
   ]
  },
  {
   "cell_type": "code",
   "execution_count": 94,
   "metadata": {},
   "outputs": [
    {
     "ename": "KeyError",
     "evalue": "-10",
     "output_type": "error",
     "traceback": [
      "\u001b[1;31m---------------------------------------------------------------------------\u001b[0m",
      "\u001b[1;31mKeyError\u001b[0m                                  Traceback (most recent call last)",
      "\u001b[1;32m<ipython-input-94-93e752f571aa>\u001b[0m in \u001b[0;36m<module>\u001b[1;34m\u001b[0m\n\u001b[1;32m----> 1\u001b[1;33m \u001b[0mli\u001b[0m\u001b[1;33m.\u001b[0m\u001b[0mremove\u001b[0m\u001b[1;33m(\u001b[0m\u001b[1;33m-\u001b[0m\u001b[1;36m10\u001b[0m\u001b[1;33m)\u001b[0m \u001b[1;31m## We shouldn't use remove because if the given element is not present in set then it throws an error.\u001b[0m\u001b[1;33m\u001b[0m\u001b[1;33m\u001b[0m\u001b[0m\n\u001b[0m\u001b[0;32m      2\u001b[0m \u001b[1;31m## Where as 'discard' function doesn't throw any error.\u001b[0m\u001b[1;33m\u001b[0m\u001b[1;33m\u001b[0m\u001b[1;33m\u001b[0m\u001b[0m\n",
      "\u001b[1;31mKeyError\u001b[0m: -10"
     ]
    }
   ],
   "source": [
    "li.remove(-10) ## We shouldn't use remove because if the given element is not present in set then it throws an error.\n",
    "## Where as 'discard' function doesn't throw any error."
   ]
  },
  {
   "cell_type": "code",
   "execution_count": 97,
   "metadata": {},
   "outputs": [
    {
     "data": {
      "text/plain": [
       "{4, 5}"
      ]
     },
     "execution_count": 97,
     "metadata": {},
     "output_type": "execute_result"
    }
   ],
   "source": [
    "a = {10,9,8,4,5,6,7}\n",
    "b = {2,3,4,5,5}\n",
    "\n",
    "a.union(b) ## Combines all elements of both the sets. A U B = B U A\n",
    "\n",
    "a.intersection(b)  ## Gives common elements present in both the sets."
   ]
  },
  {
   "cell_type": "code",
   "execution_count": 98,
   "metadata": {},
   "outputs": [
    {
     "data": {
      "text/plain": [
       "False"
      ]
     },
     "execution_count": 98,
     "metadata": {},
     "output_type": "execute_result"
    }
   ],
   "source": [
    "a.isdisjoint(b) ## Returns True if there are no common elements and vice versa."
   ]
  },
  {
   "cell_type": "code",
   "execution_count": 99,
   "metadata": {},
   "outputs": [
    {
     "data": {
      "text/plain": [
       "True"
      ]
     },
     "execution_count": 99,
     "metadata": {},
     "output_type": "execute_result"
    }
   ],
   "source": [
    "c = {12,13,14,15}\n",
    "\n",
    "a.isdisjoint(c) ## Returns True because there are no common elements in 'a' and 'c'"
   ]
  },
  {
   "cell_type": "code",
   "execution_count": 101,
   "metadata": {},
   "outputs": [
    {
     "data": {
      "text/plain": [
       "{2, 3}"
      ]
     },
     "execution_count": 101,
     "metadata": {},
     "output_type": "execute_result"
    }
   ],
   "source": [
    "a - b ## Represents all elements of 'a' which are not in 'b'\n",
    "\n",
    "b - a ## Returns all elements of 'b' which are not in 'a'"
   ]
  },
  {
   "cell_type": "code",
   "execution_count": 104,
   "metadata": {},
   "outputs": [
    {
     "data": {
      "text/plain": [
       "[4, 5, 6, 7, 8, 9, 10]"
      ]
     },
     "execution_count": 104,
     "metadata": {},
     "output_type": "execute_result"
    }
   ],
   "source": [
    "sorted(a) ## returns a list in a sorted order. Converts set to a list"
   ]
  },
  {
   "cell_type": "code",
   "execution_count": 105,
   "metadata": {},
   "outputs": [
    {
     "data": {
      "text/plain": [
       "{2, 3, 6, 7, 8, 9, 10}"
      ]
     },
     "execution_count": 105,
     "metadata": {},
     "output_type": "execute_result"
    }
   ],
   "source": [
    "a ^ b # Returns elements either in a or in b"
   ]
  },
  {
   "cell_type": "code",
   "execution_count": 110,
   "metadata": {},
   "outputs": [
    {
     "data": {
      "text/plain": [
       "{1}"
      ]
     },
     "execution_count": 110,
     "metadata": {},
     "output_type": "execute_result"
    }
   ],
   "source": [
    "d = set() #Declaration of a set. Creates an empty set\n",
    "d\n",
    "d.add(1)\n",
    "d"
   ]
  },
  {
   "cell_type": "code",
   "execution_count": 112,
   "metadata": {},
   "outputs": [
    {
     "data": {
      "text/plain": [
       "{1, 2, 3, 4, 5, 6, 7, 8}"
      ]
     },
     "execution_count": 112,
     "metadata": {},
     "output_type": "execute_result"
    }
   ],
   "source": [
    "l = [1,1,1,1,2,2,2,3,3,4,4,4,5,5,6,7,7,8,8]\n",
    "set(l) ## Returns a unique list. Its a costly operation. It takes some time. Using for loop is only faster."
   ]
  },
  {
   "cell_type": "markdown",
   "metadata": {},
   "source": [
    "### Functional Programming in Python\n",
    "\n",
    "    * List Comprehension\n",
    "    * Iterators\n",
    "    \n",
    "\n",
    "\n",
    "* Procedural : C\n",
    "* Object Oriented : Java , Python\n",
    "* Scripting : PHP, Python, Javascript, Shell, Perl \n",
    "* Functional : Python, Haskell, Scala\n",
    "* Logic(rules) : Prolog , Lisp\n"
   ]
  },
  {
   "cell_type": "markdown",
   "metadata": {},
   "source": [
    "#### List Comprehensions"
   ]
  },
  {
   "cell_type": "code",
   "execution_count": 116,
   "metadata": {},
   "outputs": [
    {
     "data": {
      "text/plain": [
       "[1, 2, 3, 4, 5, 6, 7, 8, 9, 10]"
      ]
     },
     "execution_count": 116,
     "metadata": {},
     "output_type": "execute_result"
    }
   ],
   "source": [
    "## N natural numbers in a list\n",
    "\n",
    "n = 10\n",
    "l = []\n",
    "for i in range(1,n+1):\n",
    "    l.append(i)\n",
    "l\n",
    "\n",
    "## It takes more lines.\n",
    "\n",
    "## If we use list comprehension it becomes very simple.\n",
    "\n",
    "li = [i for i in range(1,n+1)]\n",
    "li"
   ]
  },
  {
   "cell_type": "code",
   "execution_count": 118,
   "metadata": {},
   "outputs": [
    {
     "data": {
      "text/plain": [
       "[1, 8, 27, 64, 125, 216, 343, 512, 729, 1000]"
      ]
     },
     "execution_count": 118,
     "metadata": {},
     "output_type": "execute_result"
    }
   ],
   "source": [
    "## Apply list comprehension to store the list of cubes of N natural numbers.\n",
    "n = 10\n",
    "li = [i**3 for i in range(1,n+1)]\n",
    "li"
   ]
  },
  {
   "cell_type": "code",
   "execution_count": 136,
   "metadata": {},
   "outputs": [
    {
     "data": {
      "text/plain": [
       "[1, 2, 6, 24, 120]"
      ]
     },
     "execution_count": 136,
     "metadata": {},
     "output_type": "execute_result"
    }
   ],
   "source": [
    "def factorial(n):\n",
    "    if n == 0 or n == 1:\n",
    "        return 1\n",
    "    else:\n",
    "        return n * factorial(n-1)\n",
    "    \n",
    "n = 5\n",
    "factList = [factorial(i) for i in range(1,n+1)]\n",
    "factList"
   ]
  },
  {
   "cell_type": "code",
   "execution_count": 2,
   "metadata": {},
   "outputs": [
    {
     "data": {
      "text/plain": [
       "[1, 3, 6, 10]"
      ]
     },
     "execution_count": 2,
     "metadata": {},
     "output_type": "execute_result"
    }
   ],
   "source": [
    "## Calculate or store cumulative sum of numbers till n in a list\n",
    "## Eg: if n = 3 [1,2,3] --> [1,3,6]\n",
    "\n",
    "def cum_sum(n):\n",
    "    l = []\n",
    "    s = 0\n",
    "    for i in range(1,n+1):\n",
    "        s = s + i\n",
    "        l.append(s)\n",
    "    return l\n",
    "\n",
    "n = 4\n",
    "li = [sum(range(i+1)) for i in range(1,n+1)]\n",
    "li"
   ]
  },
  {
   "cell_type": "code",
   "execution_count": 9,
   "metadata": {},
   "outputs": [
    {
     "data": {
      "text/plain": [
       "[1972, 1976, 1980, 1984, 1988, 1992, 1996, 2000, 2004, 2008, 2012, 2016]"
      ]
     },
     "execution_count": 9,
     "metadata": {},
     "output_type": "execute_result"
    }
   ],
   "source": [
    "## Function to store only leap years in a given time period\n",
    "\n",
    "def isLeap(y):\n",
    "    if ((y % 400 == 0) or (y % 4 == 0 and y % 100 != 0)):\n",
    "        return True\n",
    "    else:\n",
    "        return False\n",
    "\n",
    "def allLeapsInRange(sy,ey):\n",
    "    listOfLeaps = []\n",
    "    for i in range(sy,ey+1):\n",
    "        if isLeap(i):\n",
    "            listOfLeaps.append(i)\n",
    "    return listOfLeaps\n",
    "allLeapsInRange(1970,2019)\n"
   ]
  },
  {
   "cell_type": "code",
   "execution_count": 16,
   "metadata": {},
   "outputs": [
    {
     "data": {
      "text/plain": [
       "[1972, 1976, 1980, 1984, 1988, 1992, 1996, 2000, 2004, 2008, 2012, 2016]"
      ]
     },
     "execution_count": 16,
     "metadata": {},
     "output_type": "execute_result"
    }
   ],
   "source": [
    "## Above problem using List Comprehension\n",
    "st = 1970\n",
    "et = 2019\n",
    "li = [i for i in range(st,et+1) if isLeap(i)]\n",
    "li"
   ]
  },
  {
   "cell_type": "code",
   "execution_count": 31,
   "metadata": {},
   "outputs": [
    {
     "name": "stdout",
     "output_type": "stream",
     "text": [
      "haMesh\n"
     ]
    }
   ],
   "source": [
    "s = 'Mahesh'\n",
    "sub = s[1:3]\n",
    "s1 = s.replace(sub,'')\n",
    "print(sub[::-1]+s1)"
   ]
  },
  {
   "cell_type": "code",
   "execution_count": 29,
   "metadata": {},
   "outputs": [
    {
     "data": {
      "text/plain": [
       "[1, 2, 3, 4, 5]"
      ]
     },
     "execution_count": 29,
     "metadata": {},
     "output_type": "execute_result"
    }
   ],
   "source": [
    "li = [1,2,3,2,1,4,5]\n",
    "\n",
    "## Unique array using list comprehension\n",
    "li.sort()\n",
    "u2 = []\n",
    "unique = []\n",
    "[u2.append(i) for i in li if i not in u2]\n",
    "u2"
   ]
  },
  {
   "cell_type": "markdown",
   "metadata": {},
   "source": [
    "### Iterators\n",
    "\n",
    "* Iterables  - Strings, Lists, Tuples, Sets, Dictionary\n",
    "* Convert Iterable to Iterator --> iter()\n",
    "* For Loop : It doesn't stop until the condition is reached\n",
    "* Iterator : It stops whenever we want."
   ]
  },
  {
   "cell_type": "code",
   "execution_count": 34,
   "metadata": {},
   "outputs": [
    {
     "name": "stdout",
     "output_type": "stream",
     "text": [
      "1: \n",
      "p\n",
      "\n",
      "\n",
      "2: \n",
      "y\n"
     ]
    }
   ],
   "source": [
    "it = iter('python')\n",
    "\n",
    "print('1: ')\n",
    "print(next(it))\n",
    "print('\\n')\n",
    "print('2: ')\n",
    "print(next(it))\n"
   ]
  },
  {
   "cell_type": "markdown",
   "metadata": {},
   "source": [
    "### Generators\n"
   ]
  },
  {
   "cell_type": "code",
   "execution_count": 45,
   "metadata": {},
   "outputs": [
    {
     "data": {
      "text/plain": [
       "8"
      ]
     },
     "execution_count": 45,
     "metadata": {},
     "output_type": "execute_result"
    }
   ],
   "source": [
    "def generator():\n",
    "    n = 2\n",
    "    yield n\n",
    "    \n",
    "    n = n ** 3\n",
    "    yield n\n",
    "    \n",
    "    n = n ** 3\n",
    "    yield n\n",
    "    \n",
    "a = generator()\n",
    "\n",
    "next(a)\n",
    "next(a)"
   ]
  },
  {
   "cell_type": "code",
   "execution_count": 58,
   "metadata": {},
   "outputs": [
    {
     "name": "stdout",
     "output_type": "stream",
     "text": [
      "8\n",
      "512\n",
      "134217728\n",
      "2417851639229258349412352\n"
     ]
    }
   ],
   "source": [
    "def gen():\n",
    "    n = 2\n",
    "    \n",
    "    for i in range(4):\n",
    "        n **= 3\n",
    "        yield n\n",
    "    \n",
    "a = gen()\n",
    "\n",
    "for i in range(4):\n",
    "    print(next(a))"
   ]
  },
  {
   "cell_type": "code",
   "execution_count": null,
   "metadata": {},
   "outputs": [],
   "source": []
  }
 ],
 "metadata": {
  "kernelspec": {
   "display_name": "Python 3",
   "language": "python",
   "name": "python3"
  },
  "language_info": {
   "codemirror_mode": {
    "name": "ipython",
    "version": 3
   },
   "file_extension": ".py",
   "mimetype": "text/x-python",
   "name": "python",
   "nbconvert_exporter": "python",
   "pygments_lexer": "ipython3",
   "version": "3.7.3"
  }
 },
 "nbformat": 4,
 "nbformat_minor": 2
}
