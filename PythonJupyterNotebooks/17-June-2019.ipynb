{
 "cells": [
  {
   "cell_type": "markdown",
   "metadata": {},
   "source": [
    "### Duration"
   ]
  },
  {
   "cell_type": "code",
   "execution_count": 2,
   "metadata": {},
   "outputs": [
    {
     "name": "stdout",
     "output_type": "stream",
     "text": [
      "0 30\n"
     ]
    }
   ],
   "source": [
    "def timeDifference(s):\n",
    "    s = s.split()\n",
    "    sh = int(s[0])\n",
    "    sm = int(s[1])\n",
    "    eh = int(s[2])\n",
    "    em = int(s[3])\n",
    "    startMinutes = (sh * 60) + sm\n",
    "    endMinutes = (eh * 60) + em\n",
    "    minutes = endMinutes - startMinutes\n",
    "    hh = minutes // 60\n",
    "    mm = minutes % 60\n",
    "    print(hh,mm)\n",
    "timeDifference(\"1 44 2 14\")\n",
    "    "
   ]
  },
  {
   "cell_type": "markdown",
   "metadata": {},
   "source": [
    "### Write a program to determine whether a number N is equal to the sum of its proper positive divisors(excluding number itself)"
   ]
  },
  {
   "cell_type": "code",
   "execution_count": 12,
   "metadata": {},
   "outputs": [],
   "source": [
    "def isPerfect(n):\n",
    "    num = abs(n)\n",
    "    sum = 0\n",
    "    for i in range(1,num):\n",
    "        if num % i == 0:\n",
    "            sum = sum + i\n",
    "    print(sum)\n",
    "    if sum == num:\n",
    "        print(\"YES\")\n",
    "    else:\n",
    "        print('No')"
   ]
  },
  {
   "cell_type": "code",
   "execution_count": 13,
   "metadata": {},
   "outputs": [
    {
     "name": "stdout",
     "output_type": "stream",
     "text": [
      "496\n",
      "YES\n"
     ]
    }
   ],
   "source": [
    "isPerfect(496)"
   ]
  },
  {
   "cell_type": "markdown",
   "metadata": {},
   "source": [
    "### You are given a string S of N characters. Determine the number of digits and the number of english letters in S."
   ]
  },
  {
   "cell_type": "code",
   "execution_count": 35,
   "metadata": {},
   "outputs": [
    {
     "name": "stdout",
     "output_type": "stream",
     "text": [
      "4 3\n"
     ]
    }
   ],
   "source": [
    "def numberOfDigitsAndAlphabets(s):\n",
    "    digitCount = 0\n",
    "    engCount = 0\n",
    "    for i in s:\n",
    "        if i.isdigit():\n",
    "            digitCount += 1\n",
    "        elif (ord(i) >= 97 and ord(i) <= 122) or (ord(i) >= 65 and ord(i) <= 90):\n",
    "            engCount += 1\n",
    "    print(digitCount,engCount)\n",
    "            \n",
    "numberOfDigitsAndAlphabets(\"aNs$9123\")\n",
    "    "
   ]
  },
  {
   "cell_type": "markdown",
   "metadata": {},
   "source": [
    "### You are given a number N. Write a program to find a natural number that is smaller than N such that N gives the highest remainder when divided by that number."
   ]
  },
  {
   "cell_type": "code",
   "execution_count": 47,
   "metadata": {},
   "outputs": [
    {
     "data": {
      "text/plain": [
       "3"
      ]
     },
     "execution_count": 47,
     "metadata": {},
     "output_type": "execute_result"
    }
   ],
   "source": [
    "def highestRemainder(n):\n",
    "    maxR = 0\n",
    "    for i in range(1,n+1):\n",
    "        if n % i > maxR:\n",
    "            maxR = n%i\n",
    "    if maxR < n:\n",
    "        return maxR\n",
    "highestRemainder(7)              "
   ]
  },
  {
   "cell_type": "markdown",
   "metadata": {},
   "source": [
    "### A special number is defined as a number which has atleast P distinct prime factors. Write a program to determine whether a number N is a special number "
   ]
  },
  {
   "cell_type": "code",
   "execution_count": 1,
   "metadata": {},
   "outputs": [
    {
     "name": "stdout",
     "output_type": "stream",
     "text": [
      "3\n",
      "3\n",
      "6\n",
      "NO\n",
      "7\n",
      "NO\n",
      "9\n",
      "NO\n"
     ]
    }
   ],
   "source": [
    "def isPrime(num):\n",
    "    count = 0\n",
    "    for i in range(2,num):\n",
    "        if num % i == 0:\n",
    "            count += 1\n",
    "    if count == 0:\n",
    "        return True\n",
    "    else:\n",
    "        return False\n",
    "\n",
    "def factorList(number):\n",
    "    li = []\n",
    "    for i in range(2,number+1):\n",
    "        if number % i == 0:\n",
    "            li.append(i)\n",
    "    return li\n",
    "    \n",
    "def specialNumber(N,p):\n",
    "    c = 0\n",
    "    l = factorList(N)\n",
    "    for i in l:\n",
    "        if isPrime(i):\n",
    "            c += 1\n",
    "    if c == p:\n",
    "        print(\"YES\")\n",
    "    else:\n",
    "        print(\"NO\")\n",
    "\n",
    "p = int(input())\n",
    "t = int(input())\n",
    "for i in range(t):\n",
    "    s = int(input())\n",
    "    specialNumber(s,p)"
   ]
  },
  {
   "cell_type": "code",
   "execution_count": null,
   "metadata": {},
   "outputs": [],
   "source": []
  }
 ],
 "metadata": {
  "kernelspec": {
   "display_name": "Python 3",
   "language": "python",
   "name": "python3"
  },
  "language_info": {
   "codemirror_mode": {
    "name": "ipython",
    "version": 3
   },
   "file_extension": ".py",
   "mimetype": "text/x-python",
   "name": "python",
   "nbconvert_exporter": "python",
   "pygments_lexer": "ipython3",
   "version": "3.7.3"
  }
 },
 "nbformat": 4,
 "nbformat_minor": 2
}
