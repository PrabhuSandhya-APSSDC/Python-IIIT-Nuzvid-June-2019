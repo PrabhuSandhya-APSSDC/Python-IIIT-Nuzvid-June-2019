{
 "cells": [
  {
   "cell_type": "code",
   "execution_count": 21,
   "metadata": {},
   "outputs": [
    {
     "data": {
      "text/plain": [
       "7"
      ]
     },
     "execution_count": 21,
     "metadata": {},
     "output_type": "execute_result"
    }
   ],
   "source": [
    "### Function to find the second largest number in a list\n",
    "\n",
    "def secondLargest(li):\n",
    "    # Convert the list into a unique list\n",
    "    # Time complexity - O(n) ===> one loop.\n",
    "    \n",
    "    unique = []\n",
    "    if len(li) == 1:\n",
    "        return li[0]\n",
    "    for i in li:\n",
    "        if i not in unique:\n",
    "            unique.append(i)\n",
    "    unique = sorted(unique,reverse = True) # Sorts the data in the list. Reverse = True indicates that sorting is done in a reverse manner\n",
    "    if len(unique) > 1:\n",
    "        return unique[2-1]\n",
    "    else:\n",
    "        return -1\n",
    "secondLargest([1,2,3,4,2,5,8,8,8,7,1,2])    \n",
    "    "
   ]
  },
  {
   "cell_type": "code",
   "execution_count": 20,
   "metadata": {},
   "outputs": [
    {
     "data": {
      "text/plain": [
       "5"
      ]
     },
     "execution_count": 20,
     "metadata": {},
     "output_type": "execute_result"
    }
   ],
   "source": [
    "def fifthLeast(li):\n",
    "    unique = []\n",
    "    for i in li:\n",
    "        if i not in unique:\n",
    "            unique.append(i)\n",
    "    unique = sorted(unique,reverse = False)\n",
    "    if len(unique) >= 5:\n",
    "        return unique[5-1]\n",
    "    else:\n",
    "        return -1\n",
    "fifthLeast([1,2,3,4,5])"
   ]
  },
  {
   "cell_type": "code",
   "execution_count": 28,
   "metadata": {},
   "outputs": [
    {
     "data": {
      "text/plain": [
       "2"
      ]
     },
     "execution_count": 28,
     "metadata": {},
     "output_type": "execute_result"
    }
   ],
   "source": [
    "# Function to find the element with highest frequency in a list\n",
    "# If two elements have the same frequency return the smallest one.\n",
    "# highestFrequency([1,2,3,9,8,7,3,4,2,1])\n",
    "\n",
    "def highestFrequency(li):\n",
    "    \n",
    "    u = {}\n",
    "    c = []\n",
    "    m = 0\n",
    "    \n",
    "    for i in li:\n",
    "        if i not in u:\n",
    "            u[i] = 1\n",
    "        else:\n",
    "            u[i] += 1\n",
    "            \n",
    "    for key,value in u.items(): \n",
    "        if u[key] > m:\n",
    "            m = u[key]\n",
    "            \n",
    "    for key,value in u.items():\n",
    "        if m == value:\n",
    "            return key\n",
    "        \n",
    "highestFrequency([2,2,3,9,8,7,3,1])            "
   ]
  },
  {
   "cell_type": "code",
   "execution_count": 32,
   "metadata": {},
   "outputs": [
    {
     "name": "stdout",
     "output_type": "stream",
     "text": [
      "dict_items([(2, 2), (3, 2), (9, 1), (8, 1), (7, 1), (1, 1)])\n",
      "Maximum frequency elements are: [2, 3]\n"
     ]
    },
    {
     "data": {
      "text/plain": [
       "2"
      ]
     },
     "execution_count": 32,
     "metadata": {},
     "output_type": "execute_result"
    }
   ],
   "source": [
    "## Second Method for above problem\n",
    "\n",
    "def highFreq(li):\n",
    "    unique = {}\n",
    "    for i in li:\n",
    "        if i not in unique:\n",
    "            unique[i] = 1\n",
    "        else:\n",
    "            unique[i] += 1\n",
    "    ## Getting all the frequencies into a list\n",
    "    \n",
    "    freq = unique.values()\n",
    "    maxFreq = max(freq)\n",
    "    maxFreqElements = []\n",
    "    \n",
    "    print(unique.items())\n",
    "    ## Identify the smallest number with maximum frequency\n",
    "    \n",
    "    for item in unique.items():\n",
    "        if item[1] == maxFreq:\n",
    "            maxFreqElements.append(item[0])\n",
    "    \n",
    "    print(f'Maximum frequency elements are: {maxFreqElements}')\n",
    "    \n",
    "    ## Select the minimum element which is having same frequency\n",
    "    \n",
    "    return min(maxFreqElements)\n",
    "\n",
    "highFreq([2,2,3,9,8,7,3,1]) "
   ]
  },
  {
   "cell_type": "code",
   "execution_count": 51,
   "metadata": {},
   "outputs": [
    {
     "name": "stdout",
     "output_type": "stream",
     "text": [
      "dict_values([3, 2, 1, 1, 1, 1])\n",
      "dict_items([(2, 3), (3, 2), (9, 1), (8, 1), (7, 1), (1, 1)])\n",
      "Second Maximum frequency elements are: [3]\n"
     ]
    },
    {
     "data": {
      "text/plain": [
       "3"
      ]
     },
     "execution_count": 51,
     "metadata": {},
     "output_type": "execute_result"
    }
   ],
   "source": [
    "## Function to identify second highest frequency element.\n",
    "## If there are many elements, return minimum element\n",
    "def highSecondFreqElement(li):\n",
    "    unique = {}\n",
    "    for i in li:\n",
    "        if i not in unique:\n",
    "            unique[i] = 1\n",
    "        else:\n",
    "            unique[i] += 1\n",
    "    ## Getting all the frequencies into a list\n",
    "    \n",
    "    uc = []\n",
    "    freq = unique.values()\n",
    "    print(freq)\n",
    "    for i in freq:\n",
    "        if i not in uc:\n",
    "            uc.append(i)\n",
    "    sortedFreq = sorted(uc,reverse = True)\n",
    "    secondLarFreq = sortedFreq[1]\n",
    "    maxFreqElements =[]\n",
    "    \n",
    "    \n",
    "    print(unique.items())\n",
    "    ## Identify the smallest number with maximum frequency\n",
    "    \n",
    "    for item in unique.items():\n",
    "        if item[1] == secondLarFreq:\n",
    "            maxFreqElements.append(item[0])\n",
    "    \n",
    "    print(f'Second Maximum frequency elements are: {maxFreqElements}')\n",
    "    \n",
    "    ## Select the minimum element which is having same frequency\n",
    "    \n",
    "    return min(maxFreqElements)\n",
    "\n",
    "highSecondFreqElement([2,2,2,3,9,8,7,3,1]) \n"
   ]
  },
  {
   "cell_type": "code",
   "execution_count": 7,
   "metadata": {},
   "outputs": [
    {
     "data": {
      "text/plain": [
       "-1"
      ]
     },
     "execution_count": 7,
     "metadata": {},
     "output_type": "execute_result"
    }
   ],
   "source": [
    "## Function to identify Kth highest frequency element.\n",
    "## If there are many elements, return minimum element\n",
    "def highKthFreqElement(li,k):\n",
    "    unique = {}\n",
    "    for i in li:\n",
    "        if i not in unique:\n",
    "            unique[i] = 1\n",
    "        else:\n",
    "            unique[i] += 1\n",
    "    ## Getting all the frequencies into a list\n",
    "    \n",
    "    uc = []\n",
    "    freq = unique.values()\n",
    "    #print(freq)\n",
    "    for i in freq:\n",
    "        if i not in uc:\n",
    "            uc.append(i)\n",
    "    sortedFreq = sorted(uc,reverse = True)\n",
    "    #print(sortedFreq)\n",
    "    if len(sortedFreq) > k:\n",
    "        KLarFreq = sortedFreq[k-1]\n",
    "    else:\n",
    "        return -1\n",
    "    maxFreqElements =[]\n",
    "    \n",
    "    \n",
    "    #print(unique.items())\n",
    "    ## Identify the smallest number with maximum frequency\n",
    "    \n",
    "    for item in unique.items():\n",
    "        if item[1] == KLarFreq:\n",
    "            maxFreqElements.append(item[0])\n",
    "    \n",
    "    #print(f'Kth Maximum frequency elements are: {maxFreqElements}')\n",
    "    \n",
    "    ## Select the minimum element which is having same frequency\n",
    "    \n",
    "    return min(maxFreqElements)\n",
    "    \n",
    "highKthFreqElement([9,8,7,6,5,2,3,4,9,6,7,7,7,6],4) "
   ]
  },
  {
   "cell_type": "code",
   "execution_count": 1,
   "metadata": {},
   "outputs": [
    {
     "name": "stdout",
     "output_type": "stream",
     "text": [
      "Unique frequency list is [2, 1, 4, 3]\n",
      "Sorted Unique frequency list is [1, 2, 3, 4]\n",
      "dict_items([(9, 2), (8, 1), (7, 4), (6, 3), (5, 1), (2, 1), (3, 1), (4, 1)])\n"
     ]
    },
    {
     "data": {
      "text/plain": [
       "2"
      ]
     },
     "execution_count": 1,
     "metadata": {},
     "output_type": "execute_result"
    }
   ],
   "source": [
    "## Function to identify Kth lowest frequency element.\n",
    "## If there are many elements, return minimum element\n",
    "def lowestFreqElement(li,k):\n",
    "    dic = {}\n",
    "    for i in li:\n",
    "        if i not in dic:\n",
    "            dic[i] = 1\n",
    "        else:\n",
    "            dic[i] += 1\n",
    "        \n",
    "    freqList = dic.values()\n",
    "    uniFreqList = []\n",
    "    for i in freqList:\n",
    "        if i not in uniFreqList:\n",
    "            uniFreqList.append(i)\n",
    "    print(f'Unique frequency list is {uniFreqList}')\n",
    "    sortedUniFreqList = sorted(uniFreqList)\n",
    "    print(f'Sorted Unique frequency list is {sortedUniFreqList}')\n",
    "    kthLowestFreqElement = sortedUniFreqList[k-1]\n",
    "    \n",
    "    print(dic.items())\n",
    "    \n",
    "    lowestFreqElements = []\n",
    "    \n",
    "    for item in dic.items():\n",
    "        if item[1] == kthLowestFreqElement:\n",
    "            lowestFreqElements.append(item[0])\n",
    "    \n",
    "    return min(lowestFreqElements)\n",
    "            \n",
    "lowestFreqElement([9,8,7,6,5,2,3,4,9,6,7,7,7,6],1)    "
   ]
  },
  {
   "cell_type": "code",
   "execution_count": 6,
   "metadata": {},
   "outputs": [
    {
     "name": "stdout",
     "output_type": "stream",
     "text": [
      "s\n",
      "g\n",
      "h\n",
      "e\n",
      "w\n",
      "r\n",
      "n\n",
      "k\n",
      "-1\n",
      "c\n"
     ]
    }
   ],
   "source": [
    "with open('Packages/k-largest-frequency-input.txt','r') as f:\n",
    "    t = int(f.readline())\n",
    "    for i in range(t):\n",
    "        s = f.readline()\n",
    "        k = int(f.readline())\n",
    "        print(highKthFreqElement(s,k))"
   ]
  },
  {
   "cell_type": "code",
   "execution_count": null,
   "metadata": {},
   "outputs": [],
   "source": []
  }
 ],
 "metadata": {
  "kernelspec": {
   "display_name": "Python 3",
   "language": "python",
   "name": "python3"
  },
  "language_info": {
   "codemirror_mode": {
    "name": "ipython",
    "version": 3
   },
   "file_extension": ".py",
   "mimetype": "text/x-python",
   "name": "python",
   "nbconvert_exporter": "python",
   "pygments_lexer": "ipython3",
   "version": "3.7.3"
  }
 },
 "nbformat": 4,
 "nbformat_minor": 2
}
