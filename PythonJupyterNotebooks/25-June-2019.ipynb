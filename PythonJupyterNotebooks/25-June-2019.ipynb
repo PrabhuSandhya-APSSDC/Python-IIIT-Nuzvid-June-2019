{
 "cells": [
  {
   "cell_type": "markdown",
   "metadata": {},
   "source": [
    "  ### Given a string s. Find out the digit frequency.  We need to print from 0 to 9. if digit is available then print              the frequency of digit. Otherwise print 0. \n",
    "  ### Input Format\n",
    "  #### 2244der456yhg78km\n",
    "  ### Output Format\n",
    "  #### 0 0 2 0 3 1 1 1 1 0"
   ]
  },
  {
   "cell_type": "code",
   "execution_count": 7,
   "metadata": {},
   "outputs": [
    {
     "name": "stdout",
     "output_type": "stream",
     "text": [
      "0 0 2 0 3 1 1 1 1 0 "
     ]
    }
   ],
   "source": [
    "s = '2244der456yhg78km'\n",
    "def digitFrequency(s):\n",
    "    for i in range(0,10):\n",
    "        if str(i) in s:\n",
    "            print(s.count(str(i)),end = ' ')\n",
    "        else:\n",
    "            print(0,end = ' ')"
   ]
  },
  {
   "cell_type": "code",
   "execution_count": 8,
   "metadata": {},
   "outputs": [],
   "source": [
    "# Contacts Application\n",
    "    # Add,Search,list,Modify Delete contact\n",
    "# Find and replace application\n",
    "    # Count the total no of occurances\n",
    "    # if word exists,\n",
    "    # Replace all occurances of a word with another word.\n",
    "# Marks Analysis Application\n",
    "    # Generate marks file for n students\n",
    "    # Input: Marks.txt file. Each line contains marks of one student\n",
    "    # Generate a report with the following information.\n",
    "        # Class Average\n",
    "        # Percentage of students passed (35 above)\n",
    "        # Percentage of failed students (35 below)\n",
    "        # Percentage of students with Distinction (70 above)\n",
    "        # Highest Mark Frequency\n",
    "        # Lowest Mark Frequency"
   ]
  },
  {
   "cell_type": "markdown",
   "metadata": {},
   "source": [
    "### Marks Analysis Application"
   ]
  },
  {
   "cell_type": "code",
   "execution_count": 11,
   "metadata": {},
   "outputs": [],
   "source": [
    "from random import randint\n",
    "def generateMarks(n,lb,ub):\n",
    "        with open(\"Packages/marks.txt\",'w') as f:\n",
    "            for i in range(0,n):\n",
    "                r = randint(lb,ub)\n",
    "                f.write(str(r)+'\\n')\n",
    "generateMarks(100,1,100)    "
   ]
  },
  {
   "cell_type": "code",
   "execution_count": 66,
   "metadata": {},
   "outputs": [
    {
     "data": {
      "text/plain": [
       "52.92"
      ]
     },
     "execution_count": 66,
     "metadata": {},
     "output_type": "execute_result"
    }
   ],
   "source": [
    "def classAverage(filepath):\n",
    "    avg = 0\n",
    "    with open(filepath,'r') as f:\n",
    "        filedata = f.read().split('\\n')\n",
    "        filedata.pop()\n",
    "        l = list(map(int,filedata))\n",
    "        return (sum(l)/len(l))\n",
    "        \n",
    "        \n",
    "classAverage('Packages/marks.txt')"
   ]
  },
  {
   "cell_type": "code",
   "execution_count": 65,
   "metadata": {},
   "outputs": [
    {
     "data": {
      "text/plain": [
       "68.0"
      ]
     },
     "execution_count": 65,
     "metadata": {},
     "output_type": "execute_result"
    }
   ],
   "source": [
    "def passPercentage(filepath):\n",
    "    above_35 = []\n",
    "    with open(filepath,'r') as f:\n",
    "        filedata = f.read().split('\\n')\n",
    "        filedata.pop()\n",
    "        l = list(map(int,filedata))\n",
    "        for i in l:\n",
    "            if i >= 35:\n",
    "                above_35.append(i)\n",
    "        return ((len(above_35)*100)/len(l))\n",
    "passPercentage('Packages/marks.txt')       "
   ]
  },
  {
   "cell_type": "code",
   "execution_count": 64,
   "metadata": {},
   "outputs": [
    {
     "data": {
      "text/plain": [
       "32.0"
      ]
     },
     "execution_count": 64,
     "metadata": {},
     "output_type": "execute_result"
    }
   ],
   "source": [
    "def failedPercentage(filepath):\n",
    "    below_35 = []\n",
    "    with open(filepath,'r') as f:\n",
    "        filedata = f.read().split('\\n')\n",
    "        filedata.pop()\n",
    "        l = list(map(int,filedata))\n",
    "        for i in l:\n",
    "            if i < 35:\n",
    "                below_35.append(i)\n",
    "        return ((len(below_35)*100)/len(l))\n",
    "failedPercentage('Packages/marks.txt') "
   ]
  },
  {
   "cell_type": "code",
   "execution_count": 63,
   "metadata": {},
   "outputs": [
    {
     "data": {
      "text/plain": [
       "35.0"
      ]
     },
     "execution_count": 63,
     "metadata": {},
     "output_type": "execute_result"
    }
   ],
   "source": [
    "def distinctionPercentage(filepath):\n",
    "    above_70 = []\n",
    "    with open(filepath,'r') as f:\n",
    "        filedata = f.read().split('\\n')\n",
    "        filedata.pop()\n",
    "        l = list(map(int,filedata))\n",
    "        for i in l:\n",
    "            if i >= 70:\n",
    "                above_70.append(i)\n",
    "        return ((len(above_70)*100)/len(l))\n",
    "distinctionPercentage('Packages/marks.txt') "
   ]
  },
  {
   "cell_type": "code",
   "execution_count": 62,
   "metadata": {},
   "outputs": [
    {
     "data": {
      "text/plain": [
       "3"
      ]
     },
     "execution_count": 62,
     "metadata": {},
     "output_type": "execute_result"
    }
   ],
   "source": [
    "def highMarkFrequency(filepath):\n",
    "    with open(filepath,'r') as f:\n",
    "        filedata = f.read().split('\\n')\n",
    "        filedata.pop()\n",
    "        l = list(map(int,filedata))\n",
    "        return l.count(max(l))\n",
    "            \n",
    "\n",
    "highMarkFrequency('Packages/marks.txt')    "
   ]
  },
  {
   "cell_type": "code",
   "execution_count": 61,
   "metadata": {},
   "outputs": [
    {
     "data": {
      "text/plain": [
       "4"
      ]
     },
     "execution_count": 61,
     "metadata": {},
     "output_type": "execute_result"
    }
   ],
   "source": [
    "def lowMarkFrequency(filepath):\n",
    "    with open(filepath,'r') as f:\n",
    "        filedata = f.read().split('\\n')\n",
    "        filedata.pop()\n",
    "        l = list(map(int,filedata))\n",
    "        return l.count(min(l))\n",
    "            \n",
    "lowMarkFrequency('Packages/marks.txt') "
   ]
  },
  {
   "cell_type": "markdown",
   "metadata": {},
   "source": [
    "### Find and Replace Application"
   ]
  },
  {
   "cell_type": "code",
   "execution_count": 71,
   "metadata": {},
   "outputs": [
    {
     "name": "stdout",
     "output_type": "stream",
     "text": [
      "Hi All. Good Morning.\n",
      "Hi All. Good Morning.\n",
      "Hi All. Good Morning.\n"
     ]
    }
   ],
   "source": [
    "import re\n",
    "def findAndReplace(filepath):\n",
    "    with open(filepath,'r') as f:\n",
    "        filedata = f.read()\n",
    "        pattern = 'Hello'\n",
    "        replace = 'Hi'\n",
    "        if pattern in filedata:\n",
    "            new_string = re.sub(pattern,replace,filedata)\n",
    "        print(new_string)\n",
    "        \n",
    "    \n",
    "findAndReplace(\"Packages/data.txt\")"
   ]
  },
  {
   "cell_type": "code",
   "execution_count": 83,
   "metadata": {},
   "outputs": [
    {
     "name": "stdout",
     "output_type": "stream",
     "text": [
      "['Hi', 'All.', 'Good', 'Morning.', 'Hi', 'All.', 'Good', 'Morning.', 'Hi', 'All.', 'Good', 'Morning.']\n"
     ]
    }
   ],
   "source": [
    "def fandr(filepath):\n",
    "    word = 'Hello'\n",
    "    replace = 'Hi'\n",
    "    indexes = []\n",
    "    with open(filepath,'r') as f:\n",
    "        filedata = f.read().split()\n",
    "        for i in range(len(filedata)):\n",
    "            if filedata[i] == word: \n",
    "                indexes.append(i)\n",
    "        for i in indexes:\n",
    "            filedata[i] = 'Hi'\n",
    "        print(filedata)\n",
    "                \n",
    "fandr(\"Packages/data.txt\")"
   ]
  },
  {
   "cell_type": "code",
   "execution_count": null,
   "metadata": {},
   "outputs": [],
   "source": []
  }
 ],
 "metadata": {
  "kernelspec": {
   "display_name": "Python 3",
   "language": "python",
   "name": "python3"
  },
  "language_info": {
   "codemirror_mode": {
    "name": "ipython",
    "version": 3
   },
   "file_extension": ".py",
   "mimetype": "text/x-python",
   "name": "python",
   "nbconvert_exporter": "python",
   "pygments_lexer": "ipython3",
   "version": "3.7.3"
  }
 },
 "nbformat": 4,
 "nbformat_minor": 2
}
