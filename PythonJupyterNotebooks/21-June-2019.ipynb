{
 "cells": [
  {
   "cell_type": "markdown",
   "metadata": {},
   "source": [
    "### Palindromic String"
   ]
  },
  {
   "cell_type": "code",
   "execution_count": 9,
   "metadata": {},
   "outputs": [
    {
     "name": "stdout",
     "output_type": "stream",
     "text": [
      "-1\n"
     ]
    }
   ],
   "source": [
    "def palindromicString(s):\n",
    "    l = []\n",
    "    if len(s) == 1:\n",
    "        print(s)\n",
    "    else:\n",
    "        for i in s:\n",
    "            l.append(i)\n",
    "        if len(l) == 0:\n",
    "            print(-1)\n",
    "        else:\n",
    "            print(min(l))\n",
    "palindromicString('') "
   ]
  },
  {
   "cell_type": "markdown",
   "metadata": {},
   "source": [
    "### Contacts Application using Files"
   ]
  },
  {
   "cell_type": "code",
   "execution_count": 29,
   "metadata": {},
   "outputs": [
    {
     "name": "stdout",
     "output_type": "stream",
     "text": [
      "Contact Added Successfully\n"
     ]
    }
   ],
   "source": [
    "import re\n",
    "from Packages.validators import validateMobileNumber as vmn , validateEmail as ve\n",
    "def addContact(name,phone,email):\n",
    "    # Store data as name,phone,email in the contacts file\n",
    "    filename = 'Packages/contacts.txt'\n",
    "    if not checkContactsExists(name):\n",
    "        if vmn(phone) and ve(email):\n",
    "            with open(filename,'a') as f:\n",
    "                line = name + ',' + str(phone) + ',' +email + '\\n'\n",
    "                f.write(line)\n",
    "            print(\"Contact Added Successfully\")\n",
    "        else:\n",
    "            print(\"Invalid Mobile Number or Email\")\n",
    "            return\n",
    "    else:\n",
    "        print(f\"{name} already exists\")\n",
    "    return\n",
    "addContact(\"Hello\",9989876543,\"hello123@gmail.com\")\n",
    "\n",
    "# function to check if contact already exists\n",
    "\n",
    "def checkContactsExists(name):\n",
    "    filename = 'Packages/contacts.txt'\n",
    "    with open(filename,'r') as f:\n",
    "        filedata = f.read() # gets entire file as a string\n",
    "    return re.search(name,filedata)\n",
    "\n",
    "        "
   ]
  },
  {
   "cell_type": "code",
   "execution_count": 42,
   "metadata": {},
   "outputs": [
    {
     "name": "stdout",
     "output_type": "stream",
     "text": [
      "[['Sandhya', '9987654322', 'sandhya4059@gmail.com\\n'], ['Prabhu', '7896543210', 'prabhu4059@gmail.com\\n'], ['Siva', '7896543210', 'siva.bommini@gmail.com\\n'], ['Prasad', '7896543210', 'himaprasad@gmail.com\\n'], ['Anu', '7896543210', 'anu123@gmail.com\\n'], ['Hello', '9989876543', 'hello123@gmail.com\\n']]\n"
     ]
    },
    {
     "data": {
      "text/plain": [
       "'Sandhya,9987654322,sandhya4059@gmail.com\\nPrabhu,7896543210,prabhu4059@gmail.com\\nSiva,7896543210,siva.bommini@gmail.com\\nPrasad,7896543210,himaprasad@gmail.com\\nAnu,7896543210,anu123@gmail.com\\nHello,9989876543,hello123@gmail.com\\n'"
      ]
     },
     "execution_count": 42,
     "metadata": {},
     "output_type": "execute_result"
    }
   ],
   "source": [
    "contacts=[]\n",
    "\n",
    "filename = 'Packages/contacts.txt'\n",
    "\n",
    "def csvFileToList(filename):\n",
    "    with open(filename,'r') as f:\n",
    "        for line in f:\n",
    "            contacts.append(line.split(','))\n",
    "        return contacts\n",
    "\n",
    "\n",
    "def listToFile(contacts):\n",
    "    s = ''\n",
    "    for i in contacts:\n",
    "        s += ','.join(i)\n",
    "    return s\n",
    "\n",
    "contacts = csvFileToList(filename)  \n",
    "print(contacts)\n",
    "listToFile(contacts)"
   ]
  },
  {
   "cell_type": "code",
   "execution_count": null,
   "metadata": {},
   "outputs": [],
   "source": []
  }
 ],
 "metadata": {
  "kernelspec": {
   "display_name": "Python 3",
   "language": "python",
   "name": "python3"
  },
  "language_info": {
   "codemirror_mode": {
    "name": "ipython",
    "version": 3
   },
   "file_extension": ".py",
   "mimetype": "text/x-python",
   "name": "python",
   "nbconvert_exporter": "python",
   "pygments_lexer": "ipython3",
   "version": "3.7.3"
  }
 },
 "nbformat": 4,
 "nbformat_minor": 2
}
