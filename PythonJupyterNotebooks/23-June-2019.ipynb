{
 "cells": [
  {
   "cell_type": "code",
   "execution_count": 3,
   "metadata": {},
   "outputs": [
    {
     "name": "stdout",
     "output_type": "stream",
     "text": [
      "['Hello All. Good Morning.', 'Hello All. Good Morning.', 'Hello All. Good Morning.']\n"
     ]
    }
   ],
   "source": [
    "def readFileIntoList(filepath):\n",
    "    with open(filepath,'r') as f:\n",
    "        filedata = f.read() ## Gets entire file data as a string\n",
    "        lines = filedata.split('\\n') ## Gets entire filedata as list of lines.\n",
    "        print(lines)\n",
    "filepath = 'Packages/data.txt'\n",
    "readFileIntoList(filepath)"
   ]
  },
  {
   "cell_type": "code",
   "execution_count": 8,
   "metadata": {},
   "outputs": [
    {
     "name": "stdout",
     "output_type": "stream",
     "text": [
      " spaces = 9 \n",
      " lines = 3 \n",
      " characters = 63\n"
     ]
    }
   ],
   "source": [
    "def countOfCharacters(filepath):\n",
    "    s,c,l = 0,0,0\n",
    "    with open(filepath,'r') as f:\n",
    "        filedata = f.read()\n",
    "        for i in filedata:\n",
    "            if i == ' ':\n",
    "                s = s+1\n",
    "            elif i == '\\n':\n",
    "                l = l+1\n",
    "            else:\n",
    "                c = c+1\n",
    "        print(f\" spaces = {s} \\n lines = {l+1} \\n characters = {c}\")\n",
    "filepath = 'Packages/data.txt'\n",
    "countOfCharacters(filepath)           "
   ]
  },
  {
   "cell_type": "code",
   "execution_count": 20,
   "metadata": {},
   "outputs": [
    {
     "name": "stdout",
     "output_type": "stream",
     "text": [
      "Words List = ['Hello', 'All.', 'Good', 'Morning.', 'Hello', 'All.', 'Good', 'Morning.', 'Hello', 'All.', 'Good', 'Morning.']\n",
      "Word count = 12\n",
      "Unique words list = ['Hello', 'All.', 'Good', 'Morning.']\n",
      "Unique words list count = 4\n",
      "{'Hello': 3, 'All.': 3, 'Good': 3, 'Morning.': 3}\n"
     ]
    }
   ],
   "source": [
    "def wordCount(filepath):\n",
    "    w = 0\n",
    "    ul = []\n",
    "    dic = {}\n",
    "    with open(filepath,'r') as f:\n",
    "        filedata = f.read().split()\n",
    "        print(f\"Words List = {filedata}\")\n",
    "        print(f\"Word count = {len(filedata)}\")\n",
    "        for i in filedata:\n",
    "            if i not in ul:\n",
    "                ul.append(i)\n",
    "        print(f'Unique words list = {ul}')\n",
    "        print(f'Unique words list count = {len(ul)}')\n",
    "        for element in filedata:\n",
    "            if element not in dic:\n",
    "                dic[element] = 1\n",
    "            elif element in dic:\n",
    "                dic[element] += 1\n",
    "        print(dic)\n",
    "                \n",
    "            \n",
    "wordCount(filepath)"
   ]
  },
  {
   "cell_type": "code",
   "execution_count": 16,
   "metadata": {},
   "outputs": [
    {
     "name": "stdout",
     "output_type": "stream",
     "text": [
      "{1, 2, 3}\n"
     ]
    }
   ],
   "source": [
    "# function to get unique elements in a list\n",
    " \n",
    "# [1,2,3,3,2,1,]  ----> [1,2,3]\n",
    "\n",
    "def uniqueData():\n",
    "    l = [1,2,3,3,2,1]\n",
    "    print(set(l))\n",
    "uniqueData()"
   ]
  },
  {
   "cell_type": "code",
   "execution_count": 4,
   "metadata": {},
   "outputs": [
    {
     "name": "stdout",
     "output_type": "stream",
     "text": [
      "['a', '1', '1', '2', 'a', 's', '2', '3', '4', '9', '0']\n",
      "[1, 1, 2, 2, 3, 4, 9, 0]\n"
     ]
    }
   ],
   "source": [
    "s = 'a112as23490'\n",
    "print(list(s))\n",
    "dl = []\n",
    "for i in s:\n",
    "    if i.isdigit():\n",
    "        dl.append(i)\n",
    "l = list(map(int,dl))\n",
    "print(l)   \n",
    "\n",
    "    "
   ]
  },
  {
   "cell_type": "code",
   "execution_count": null,
   "metadata": {},
   "outputs": [],
   "source": []
  }
 ],
 "metadata": {
  "kernelspec": {
   "display_name": "Python 3",
   "language": "python",
   "name": "python3"
  },
  "language_info": {
   "codemirror_mode": {
    "name": "ipython",
    "version": 3
   },
   "file_extension": ".py",
   "mimetype": "text/x-python",
   "name": "python",
   "nbconvert_exporter": "python",
   "pygments_lexer": "ipython3",
   "version": "3.7.3"
  }
 },
 "nbformat": 4,
 "nbformat_minor": 2
}
