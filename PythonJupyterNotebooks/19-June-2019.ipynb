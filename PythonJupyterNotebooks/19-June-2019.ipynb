{
 "cells": [
  {
   "cell_type": "markdown",
   "metadata": {},
   "source": [
    "### Cost of Balloons"
   ]
  },
  {
   "cell_type": "code",
   "execution_count": 3,
   "metadata": {},
   "outputs": [
    {
     "name": "stdout",
     "output_type": "stream",
     "text": [
      "2\n",
      "10 8\n"
     ]
    },
    {
     "data": {
      "text/plain": [
       "[10, 8]"
      ]
     },
     "execution_count": 3,
     "metadata": {},
     "output_type": "execute_result"
    }
   ],
   "source": [
    "t = int(input())\n",
    "\n",
    "c = input().split()\n",
    "\n",
    "ballonsCostList = list(map(int,c)) \n",
    "\n",
    "ballonsCostList"
   ]
  },
  {
   "cell_type": "code",
   "execution_count": 9,
   "metadata": {},
   "outputs": [
    {
     "name": "stdout",
     "output_type": "stream",
     "text": [
      "2\n",
      "9 6\n",
      "10\n",
      "1 1\n",
      "1 1\n",
      "0 1\n",
      "0 0\n",
      "0 1\n",
      "0 0\n",
      "0 1\n",
      "0 1\n",
      "1 1\n",
      "0 0\n",
      "69\n",
      "1 9\n",
      "10\n",
      "0 1\n",
      "0 0\n",
      "0 0\n",
      "0 1\n",
      "1 0\n",
      "0 1\n",
      "0 1\n",
      "0 0 \n",
      "0 1\n",
      "0 0\n",
      "46\n"
     ]
    }
   ],
   "source": [
    "def costOfBalloons(n,gbc,pbc):\n",
    "    totalCost = 0\n",
    "    for j in range(n):\n",
    "        probs = input().split()\n",
    "        probslist = list(map(int,probs))\n",
    "        p1 = probslist[0]\n",
    "        p2 = probslist[1]\n",
    "        \n",
    "        if p1 == p2 == 1:\n",
    "            totalCost = totalCost + (gbc+pbc)\n",
    "            \n",
    "        elif p1 == 1 and p2 == 0:\n",
    "            totalCost = totalCost + (gbc)\n",
    "        \n",
    "        elif p1 == 0 and p2 == 1:\n",
    "            totalCost = totalCost + (pbc)\n",
    "        \n",
    "    print(totalCost)\n",
    "    \n",
    "\n",
    "t = int(input())\n",
    "\n",
    "for i in range(t):\n",
    "    c = input().split()\n",
    "    bcl = list(map(int,c)) \n",
    "    gbc = bcl[0]\n",
    "    pbc = bcl[1]\n",
    "    n = int(input())\n",
    "    costOfBalloons(n,gbc,pbc)"
   ]
  },
  {
   "cell_type": "code",
   "execution_count": 38,
   "metadata": {},
   "outputs": [
    {
     "name": "stdout",
     "output_type": "stream",
     "text": [
      "8128\n",
      "Patlu\n"
     ]
    }
   ],
   "source": [
    "def lastBrick(n):\n",
    "    p = 0\n",
    "    m = 0\n",
    "    i = 1\n",
    "    while i < n:\n",
    "        p = p + i\n",
    "        if (p+m >= n):\n",
    "            print(\"Patlu\")\n",
    "            break\n",
    "        m = m + i*2\n",
    "        if (p+m >= n):\n",
    "            print(\"Motu\")\n",
    "            break\n",
    "        i+=1\n",
    "            \n",
    "        \n",
    "        \n",
    "n = int(input())\n",
    "lastBrick(n)"
   ]
  },
  {
   "cell_type": "code",
   "execution_count": 50,
   "metadata": {},
   "outputs": [
    {
     "name": "stdout",
     "output_type": "stream",
     "text": [
      "2\n",
      "3\n",
      "A\n",
      "5\n",
      "A\n"
     ]
    }
   ],
   "source": [
    "def lift(t):\n",
    "    a = 0\n",
    "    b = 7\n",
    "    for i in range(t):\n",
    "        n = int(input())\n",
    "        \n",
    "        lift1 = abs(n-a)\n",
    "        lift2 = abs(n-b)\n",
    "        \n",
    "        if(lift1 <= lift2):\n",
    "            print('A')\n",
    "            a=n\n",
    "        else:\n",
    "            print('B')\n",
    "            b=n\n",
    "        \n",
    "        \n",
    "        \n",
    "t = int(input())\n",
    "\n",
    "lift(t)"
   ]
  },
  {
   "cell_type": "code",
   "execution_count": 94,
   "metadata": {},
   "outputs": [
    {
     "name": "stdout",
     "output_type": "stream",
     "text": [
      "NO\n"
     ]
    }
   ],
   "source": [
    "a = ['X']\n",
    "ovels = ['A','E','I','O','U','Y']\n",
    "if a[0] in ovels:\n",
    "    print('YES')\n",
    "else:\n",
    "    print('NO')"
   ]
  },
  {
   "cell_type": "code",
   "execution_count": 1,
   "metadata": {},
   "outputs": [
    {
     "data": {
      "text/plain": [
       "['1', '2', 'X', '3', '4', '5', '-', '6', '7']"
      ]
     },
     "execution_count": 1,
     "metadata": {},
     "output_type": "execute_result"
    }
   ],
   "source": [
    "t = '12X345-67'\n",
    "l = list(t)\n",
    "l"
   ]
  },
  {
   "cell_type": "code",
   "execution_count": 1,
   "metadata": {},
   "outputs": [
    {
     "name": "stdout",
     "output_type": "stream",
     "text": [
      "13X223-22\n",
      "invalid\n"
     ]
    }
   ],
   "source": [
    "def tag(t):\n",
    "    \n",
    "    l = list(t)\n",
    "    \n",
    "    ovels = ['A','E','I','O','U','Y']\n",
    "    \n",
    "    s1 = int(l[0])+int(l[1])\n",
    "    s2 = int(l[3])+int(l[4])\n",
    "    s3 = int(l[4])+int(l[5])\n",
    "    s4 = int(l[7])+int(l[8])\n",
    "    \n",
    "    if (s1 % 2 == 0) and (s2 % 2 == 0) and (s3 % 2 == 0) and (s4 % 2 == 0):\n",
    "        if l[2] not in ovels:\n",
    "            print('valid')\n",
    "        else:\n",
    "            print('invalid')\n",
    "    else:\n",
    "        print('invalid')\n",
    "            \n",
    "        \n",
    "t = input()\n",
    "tag(t)"
   ]
  },
  {
   "cell_type": "code",
   "execution_count": 17,
   "metadata": {},
   "outputs": [
    {
     "name": "stdout",
     "output_type": "stream",
     "text": [
      "102356412345\n",
      "Illegal ISBN\n"
     ]
    }
   ],
   "source": [
    "def potionMaking(n):\n",
    "    l = []\n",
    "    l1 = [1,2,3,4,5,6,7,8,9,10]\n",
    "    sum = 0\n",
    "    for i in str(n):\n",
    "        l.append(int(i))\n",
    "    \n",
    "    if len(l) != 10:\n",
    "        print('Illegal ISBN')\n",
    "        return\n",
    "    elif len(l) == 10:\n",
    "        for a,b in zip(l,l1):\n",
    "            sum = sum + (a*b)\n",
    "            \n",
    "    if sum % 11 == 0:\n",
    "        print('Legal ISBN')\n",
    "    else:\n",
    "        print('Illegal ISBN')\n",
    "            \n",
    "n = int(input())\n",
    "potionMaking(n)"
   ]
  },
  {
   "cell_type": "code",
   "execution_count": 18,
   "metadata": {},
   "outputs": [
    {
     "name": "stdout",
     "output_type": "stream",
     "text": [
      "3\n",
      "3 2\n",
      "5 2\n",
      "1 2\n",
      "3\n"
     ]
    }
   ],
   "source": [
    "def amanSharma(d):\n",
    "    t = 0\n",
    "    for i in range(d):\n",
    "        s =list(map(int,input().split()))\n",
    "        r = s[0]\n",
    "        x = s[1]\n",
    "        dist = 100*x\n",
    "        circumference = 2 *(22/7)*r\n",
    "    \n",
    "        if dist > r:\n",
    "            t += 1\n",
    "    print(t)\n",
    "        \n",
    "d = int(input())\n",
    "\n",
    "amanSharma(d)"
   ]
  },
  {
   "cell_type": "code",
   "execution_count": null,
   "metadata": {},
   "outputs": [],
   "source": []
  }
 ],
 "metadata": {
  "kernelspec": {
   "display_name": "Python 3",
   "language": "python",
   "name": "python3"
  },
  "language_info": {
   "codemirror_mode": {
    "name": "ipython",
    "version": 3
   },
   "file_extension": ".py",
   "mimetype": "text/x-python",
   "name": "python",
   "nbconvert_exporter": "python",
   "pygments_lexer": "ipython3",
   "version": "3.7.3"
  }
 },
 "nbformat": 4,
 "nbformat_minor": 2
}
