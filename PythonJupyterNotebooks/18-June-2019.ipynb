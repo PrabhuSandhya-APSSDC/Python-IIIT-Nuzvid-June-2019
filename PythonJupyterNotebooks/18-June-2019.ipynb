{
 "cells": [
  {
   "cell_type": "markdown",
   "metadata": {},
   "source": [
    "#### Akash and Vishal are quite fond of travelling. They mostly travel by railways. They were travelling in a train one day and they got interested in the seating arrangement of their compartment. The compartment looked something like \n",
    "\n",
    "<img src = \"seating.jpg\">\n",
    "\n",
    "#### So they got interested to know the seat number facing them and the seat type facing them. The seats are denoted as follows : \n",
    "\n",
    "##### Window Seat : WS\n",
    "##### Middle Seat : MS\n",
    "##### Aisle Seat : AS\n",
    "\n",
    "##### You will be given a seat number, find out the seat number facing you and the seat type, i.e. WS, MS or AS.\n",
    "\n",
    "#### INPUT\n",
    "###### First line of input will consist of a single integer T denoting number of test-cases. Each test-case consists of a single integer N denoting the seat-number.\n",
    "\n",
    "#### OUTPUT\n",
    "###### For each test case, print the facing seat-number and the seat-type, separated by a single space in a new line.\n",
    "\n",
    "#### CONSTRAINTS\n",
    "##### 1<=T<=105\n",
    "##### 1<=N<=108"
   ]
  },
  {
   "cell_type": "code",
   "execution_count": 2,
   "metadata": {},
   "outputs": [
    {
     "name": "stdout",
     "output_type": "stream",
     "text": [
      "2\n",
      "18\n",
      "19 WS\n",
      "40\n",
      "45 AS\n"
     ]
    }
   ],
   "source": [
    "def seatingArrangement(sn):\n",
    "    r = sn % 12\n",
    "    seatSide = ''\n",
    "    opSeat = 0\n",
    "    if r == 0:\n",
    "        seatSide = \"WS\"\n",
    "        opSeat = abs(sn - 11)\n",
    "    elif r == 1:\n",
    "        seatSide = \"WS\"\n",
    "        opSeat = abs(sn + 11)\n",
    "    elif r == 2:\n",
    "        seatSide = \"MS\"\n",
    "        opSeat = abs(sn + 9)\n",
    "    elif r == 3:\n",
    "        seatSide = \"AS\"\n",
    "        opSeat = abs(sn + 7)\n",
    "    elif r == 4:\n",
    "        seatSide = \"AS\"\n",
    "        opSeat = abs(sn + 5)\n",
    "    elif r == 5:\n",
    "        seatSide = \"MS\"\n",
    "        opSeat = abs(sn + 3)\n",
    "    elif r == 6:\n",
    "        seatSide = \"WS\"\n",
    "        opSeat = abs(sn + 1)\n",
    "    elif r == 7:\n",
    "        seatSide = \"WS\"\n",
    "        opSeat = abs(sn - 1)\n",
    "    elif r == 8:\n",
    "        seatSide = \"MS\"\n",
    "        opSeat = abs(sn - 3)\n",
    "    elif r == 9:\n",
    "        seatSide = \"AS\"\n",
    "        opSeat = abs(sn - 5)\n",
    "    elif r == 10:\n",
    "        seatSide = \"AS\"\n",
    "        opSeat = abs(sn - 7)\n",
    "    elif r == 11:\n",
    "        seatSide = \"MS\"\n",
    "        opSeat = abs(sn - 9)\n",
    "        \n",
    "    \n",
    "    print(opSeat, end = \" \")\n",
    "    print(seatSide)\n",
    "        \n",
    "n = int(input())\n",
    "for i in range(n):\n",
    "    s = int(input())\n",
    "    seatingArrangement(s)"
   ]
  },
  {
   "cell_type": "markdown",
   "metadata": {},
   "source": [
    "## Packages and Modules\n",
    "\n",
    "- Package:\n",
    "    - Collection of modules(Python File .py) and subpackages\n",
    "    \n",
    "- Module:\n",
    "    - A single python file containing functions.\n",
    "    \n",
    "- Package -> Subpackages -> Modules -> Functions"
   ]
  },
  {
   "cell_type": "code",
   "execution_count": 4,
   "metadata": {},
   "outputs": [
    {
     "data": {
      "text/plain": [
       "3.141592653589793"
      ]
     },
     "execution_count": 4,
     "metadata": {},
     "output_type": "execute_result"
    }
   ],
   "source": [
    "import math\n",
    "\n",
    "math.floor(123445.9000)\n",
    "\n",
    "math.pi"
   ]
  },
  {
   "cell_type": "code",
   "execution_count": 2,
   "metadata": {},
   "outputs": [
    {
     "ename": "NameError",
     "evalue": "name 'math' is not defined",
     "output_type": "error",
     "traceback": [
      "\u001b[1;31m---------------------------------------------------------------------------\u001b[0m",
      "\u001b[1;31mNameError\u001b[0m                                 Traceback (most recent call last)",
      "\u001b[1;32m<ipython-input-2-26087e65212a>\u001b[0m in \u001b[0;36m<module>\u001b[1;34m\u001b[0m\n\u001b[0;32m      3\u001b[0m \u001b[0mfloor\u001b[0m\u001b[1;33m(\u001b[0m\u001b[1;36m123.90\u001b[0m\u001b[1;33m)\u001b[0m\u001b[1;33m\u001b[0m\u001b[1;33m\u001b[0m\u001b[0m\n\u001b[0;32m      4\u001b[0m \u001b[1;33m\u001b[0m\u001b[0m\n\u001b[1;32m----> 5\u001b[1;33m \u001b[0mmath\u001b[0m\u001b[1;33m.\u001b[0m\u001b[0mpi\u001b[0m \u001b[1;31m## Because from \"math\" package we are importing only \"floor\" function but not \"pi\"\u001b[0m\u001b[1;33m\u001b[0m\u001b[1;33m\u001b[0m\u001b[0m\n\u001b[0m",
      "\u001b[1;31mNameError\u001b[0m: name 'math' is not defined"
     ]
    }
   ],
   "source": [
    "from math import floor\n",
    "\n",
    "floor(123.90)\n",
    "\n",
    "math.pi ## Because from \"math\" package we are importing only \"floor\" function but not \"pi\""
   ]
  },
  {
   "cell_type": "code",
   "execution_count": 3,
   "metadata": {},
   "outputs": [
    {
     "data": {
      "text/plain": [
       "677"
      ]
     },
     "execution_count": 3,
     "metadata": {},
     "output_type": "execute_result"
    }
   ],
   "source": [
    "from math import floor as fl\n",
    "\n",
    "fl(677.9990) ## \"fl\" is the shortcut name for \"floor\" function\n"
   ]
  },
  {
   "cell_type": "markdown",
   "metadata": {},
   "source": [
    "#### Define a function to generate N random numbers"
   ]
  },
  {
   "cell_type": "code",
   "execution_count": 13,
   "metadata": {},
   "outputs": [
    {
     "name": "stdout",
     "output_type": "stream",
     "text": [
      "3\n",
      "3\n",
      "4\n",
      "2\n"
     ]
    }
   ],
   "source": [
    "import random\n",
    "\n",
    "def generateNRandomNumbers(n):\n",
    "    for i in range(1,n+1):\n",
    "        print(random.randint(1,n))\n",
    "\n",
    "generateNRandomNumbers(4)"
   ]
  },
  {
   "cell_type": "code",
   "execution_count": 15,
   "metadata": {},
   "outputs": [
    {
     "data": {
      "text/plain": [
       "2"
      ]
     },
     "execution_count": 15,
     "metadata": {},
     "output_type": "execute_result"
    }
   ],
   "source": [
    "random.choice([1,2,3,4,5]) ## generate a random number from a given list of numbers."
   ]
  },
  {
   "cell_type": "code",
   "execution_count": 16,
   "metadata": {},
   "outputs": [
    {
     "data": {
      "text/plain": [
       "35"
      ]
     },
     "execution_count": 16,
     "metadata": {},
     "output_type": "execute_result"
    }
   ],
   "source": [
    "random.randrange(20, 50, 3) ## using randrange() to generate in range from 20 \n",
    "# to 50. The last parameter 3 is step size to skip \n",
    "# three numbers when selecting. "
   ]
  },
  {
   "cell_type": "code",
   "execution_count": 17,
   "metadata": {},
   "outputs": [
    {
     "name": "stdout",
     "output_type": "stream",
     "text": [
      "A random number between 0 and 1 is : 0.18910395350205644\n"
     ]
    }
   ],
   "source": [
    "## random() :- This number is used to generate a float random number \n",
    "## less than 1 and greater or equal to 0.\n",
    "\n",
    "print (\"A random number between 0 and 1 is : \", end=\"\") \n",
    "print (random.random()) "
   ]
  },
  {
   "cell_type": "code",
   "execution_count": 21,
   "metadata": {},
   "outputs": [
    {
     "name": "stdout",
     "output_type": "stream",
     "text": [
      "496\n",
      "YES\n"
     ]
    }
   ],
   "source": [
    "from Packages import numerical\n",
    "\n",
    "numerical.isPerfect(496)\n"
   ]
  },
  {
   "cell_type": "code",
   "execution_count": null,
   "metadata": {},
   "outputs": [],
   "source": []
  }
 ],
 "metadata": {
  "kernelspec": {
   "display_name": "Python 3",
   "language": "python",
   "name": "python3"
  },
  "language_info": {
   "codemirror_mode": {
    "name": "ipython",
    "version": 3
   },
   "file_extension": ".py",
   "mimetype": "text/x-python",
   "name": "python",
   "nbconvert_exporter": "python",
   "pygments_lexer": "ipython3",
   "version": "3.7.3"
  }
 },
 "nbformat": 4,
 "nbformat_minor": 2
}
