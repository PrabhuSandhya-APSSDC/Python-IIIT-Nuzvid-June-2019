{
 "cells": [
  {
   "cell_type": "markdown",
   "metadata": {},
   "source": [
    "## Problem Set\n",
    "* Function to calculate the average of first N Prime Numbers\n",
    "* Function to generate all perfect numbers in a given range"
   ]
  },
  {
   "cell_type": "code",
   "execution_count": 11,
   "metadata": {},
   "outputs": [
    {
     "name": "stdout",
     "output_type": "stream",
     "text": [
      "2\n",
      "3\n",
      "5\n",
      "7\n",
      "11\n",
      "13\n",
      "17\n",
      "19\n",
      "23\n",
      "29\n",
      "Average of first 0 prime numbers is: 12.9\n"
     ]
    }
   ],
   "source": [
    "def isPrime(n):\n",
    "    i=2\n",
    "    count = 0\n",
    "    while i<n//2+1:\n",
    "        if n%i == 0:\n",
    "            count = count+1\n",
    "        i+=1\n",
    "    if count == 0:\n",
    "        return True\n",
    "    else:\n",
    "        return False\n",
    "\n",
    "def avgPrimes(np):\n",
    "    p = 2\n",
    "    sum = 0\n",
    "    tp = 0\n",
    "    while np != 0:\n",
    "        if isPrime(\n",
    "            p):\n",
    "            print(p)\n",
    "            sum = sum + p\n",
    "            tp+=1\n",
    "            np-=1\n",
    "        p+=1\n",
    "    print(f'Average of first {np} prime numbers is: {sum/tp}')\n",
    "avgPrimes(10)"
   ]
  },
  {
   "cell_type": "code",
   "execution_count": 23,
   "metadata": {},
   "outputs": [
    {
     "name": "stdout",
     "output_type": "stream",
     "text": [
      "6\n",
      "28\n",
      "496\n",
      "8128\n"
     ]
    }
   ],
   "source": [
    "def isPerfect(n1):\n",
    "    i = 1\n",
    "    sum = 0\n",
    "    while i < n1:\n",
    "        if n1 % i == 0:\n",
    "            sum = sum + i\n",
    "        i+=1\n",
    "    if sum == n1:\n",
    "        return True\n",
    "    else:\n",
    "        return False\n",
    "\n",
    "def allPerfect(lb,ub):\n",
    "    for i in range(lb,ub+1):\n",
    "        if isPerfect(i):\n",
    "            print(i)    \n",
    "\n",
    "allPerfect(1,8500)"
   ]
  },
  {
   "cell_type": "markdown",
   "metadata": {},
   "source": [
    "* Function to calculate average of all factorials in a given range"
   ]
  },
  {
   "cell_type": "code",
   "execution_count": 28,
   "metadata": {},
   "outputs": [
    {
     "data": {
      "text/plain": [
       "30.6"
      ]
     },
     "execution_count": 28,
     "metadata": {},
     "output_type": "execute_result"
    }
   ],
   "source": [
    "def fact(n):\n",
    "    f = 1\n",
    "    for i in range(1,n+1):\n",
    "        f = f * i\n",
    "    return f\n",
    "\n",
    "def avgAllFacts(lb,ub):\n",
    "    sum = 0\n",
    "    count = 0\n",
    "    for i in range(lb,ub+1):\n",
    "        sum = sum + fact(i) \n",
    "        count+=1\n",
    "    return (sum/count)\n",
    "\n",
    "avgAllFacts(1,5)"
   ]
  },
  {
   "cell_type": "markdown",
   "metadata": {},
   "source": [
    "* Function to generate N odd armstrong numbers"
   ]
  },
  {
   "cell_type": "code",
   "execution_count": 60,
   "metadata": {},
   "outputs": [
    {
     "name": "stdout",
     "output_type": "stream",
     "text": [
      "1\n",
      "3\n",
      "5\n",
      "7\n",
      "9\n",
      "153\n",
      "371\n",
      "407\n",
      "92727\n",
      "1741725\n"
     ]
    }
   ],
   "source": [
    "def power(base,exp):\n",
    "    return base ** exp\n",
    "\n",
    "def countOfDigits(num):\n",
    "    return len(str(num))\n",
    "\n",
    "def isArmstrong(n):\n",
    "    sum = 0\n",
    "    ex = countOfDigits(n)\n",
    "    for i in str(n):\n",
    "        sum = sum + power(int(i),ex)\n",
    "    if sum == n:\n",
    "        return True\n",
    "    else:\n",
    "        return False\n",
    "\n",
    "def nArmStrong(n1):\n",
    "    a = 1\n",
    "    while n1 != 0:\n",
    "        if isArmstrong(a):\n",
    "            if a % 2 != 0:\n",
    "                print(a)\n",
    "                n1-=1\n",
    "        a+=1\n",
    "nArmStrong(10)"
   ]
  },
  {
   "cell_type": "markdown",
   "metadata": {},
   "source": [
    "* Function to generate Multiplication table for a number in a given range\n",
    "    * 10 in the range(100, 102) inclusive\n",
    "    * 10 x 100 = 1000\n",
    "    * 10 x 101 = 1010\n",
    "    * 10 x 102 = 1020"
   ]
  },
  {
   "cell_type": "code",
   "execution_count": 63,
   "metadata": {},
   "outputs": [
    {
     "name": "stdout",
     "output_type": "stream",
     "text": [
      "5 * 1 = 5\n",
      "5 * 2 = 10\n",
      "5 * 3 = 15\n",
      "5 * 4 = 20\n",
      "5 * 5 = 25\n"
     ]
    }
   ],
   "source": [
    "def generateTable(num,lb,ub):\n",
    "    for i in range(lb,ub+1):\n",
    "        print(f'{num} * {i} = {num*i}')\n",
    "generateTable(5,1,5)"
   ]
  },
  {
   "cell_type": "markdown",
   "metadata": {},
   "source": [
    "* Function to calculate number of hours for a given period\n",
    "    * numberOfHours(5,2019,6,2019) -> 1464\n",
    "    * (2,2016,6,2019)\n",
    "    * All days from feb 2016 to dec 2016, all days for years between 2016 and 2019,\n",
    "      all days from Jan to June 2019.\n",
    "    * Steps:\n",
    "        * Start month year to end of year - Calculate No of days.\n",
    "        * Calculate days for all years between start year and end year exclusive.\n",
    "        * Calculate days from Jan to end month year."
   ]
  },
  {
   "cell_type": "code",
   "execution_count": 55,
   "metadata": {},
   "outputs": [
    {
     "data": {
      "text/plain": [
       "1416"
      ]
     },
     "execution_count": 55,
     "metadata": {},
     "output_type": "execute_result"
    }
   ],
   "source": [
    "def isLeap(year):\n",
    "    if (year % 400 == 0) or (year % 4 == 0 and year % 100 != 0):\n",
    "        return True\n",
    "    else:\n",
    "        return False\n",
    "\n",
    "def NumberOfDays(StartYear,EndYear):\n",
    "    sum = 0\n",
    "    for year in range(StartYear+1,EndYear):\n",
    "        if isLeap(year):\n",
    "            sum = sum + 366\n",
    "        else:\n",
    "            sum = sum + 365 \n",
    "    return sum\n",
    "\n",
    "## First Six Months - 1,3,4,5,6,7\n",
    "                        ## All odd months have 31 days\n",
    "                        ## All even months have 30 days\n",
    "## Last Six Months - 8,9,10,11,12\n",
    "                        ## All even months have 31 days \n",
    "                        ## All odd months have 30 days\n",
    "def MonthDays(month,year):\n",
    "    if month == 2:\n",
    "        if isLeap(year):\n",
    "            return 29\n",
    "        else: \n",
    "            return 28\n",
    "    else:\n",
    "        if (month != 2 and month <= 7 and month % 2 != 0) or (month % 2 ==0 and month > 7):\n",
    "            return 31\n",
    "        else:\n",
    "            return 30\n",
    "\n",
    "\n",
    "def numberOfHours(startMonth,startYear,endMonth,endYear):\n",
    "    \n",
    "    days1 = 0 ## days for given month of the startYear to end of startYear(Dec)\n",
    "    days2 = 0 ## days for StartMonth(Jan) of the endYear to end of given month.\n",
    "    days3 = 0 ## days for all years between start year and end year exclusive\n",
    "    startYearFebDays = 0\n",
    "    endYearFebDays = 0\n",
    "    totalDays = 0\n",
    "    \n",
    "                \n",
    "    if startYear != endYear:\n",
    "        \n",
    "            for m1 in range(startMonth,13):\n",
    "                days1 += MonthDays(m1,startYear)\n",
    "                \n",
    "            for m2 in range(1, endMonth+1):\n",
    "                days2 += MonthDays(m2,endYear)\n",
    "                \n",
    "            days3 = NumberOfDays(startYear,endYear)\n",
    "        \n",
    "    elif startYear == endYear:\n",
    "        for m1 in range(startMonth,endMonth+1):\n",
    "            days1 += MonthDays(m1,startYear)\n",
    "    \n",
    "    totalDays = startYearFebDays + endYearFebDays + days1 + days2 + days3\n",
    "    \n",
    "    return totalDays * 24\n",
    "\n",
    "numberOfHours(2,2018,3,2018)"
   ]
  },
  {
   "cell_type": "code",
   "execution_count": null,
   "metadata": {},
   "outputs": [],
   "source": []
  }
 ],
 "metadata": {
  "kernelspec": {
   "display_name": "Python 3",
   "language": "python",
   "name": "python3"
  },
  "language_info": {
   "codemirror_mode": {
    "name": "ipython",
    "version": 3
   },
   "file_extension": ".py",
   "mimetype": "text/x-python",
   "name": "python",
   "nbconvert_exporter": "python",
   "pygments_lexer": "ipython3",
   "version": "3.7.3"
  }
 },
 "nbformat": 4,
 "nbformat_minor": 2
}
