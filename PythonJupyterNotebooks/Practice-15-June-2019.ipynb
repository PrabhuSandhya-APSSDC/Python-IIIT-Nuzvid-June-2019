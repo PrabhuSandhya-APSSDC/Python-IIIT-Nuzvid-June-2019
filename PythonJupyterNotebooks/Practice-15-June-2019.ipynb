{
 "cells": [
  {
   "cell_type": "code",
   "execution_count": 3,
   "metadata": {},
   "outputs": [
    {
     "data": {
      "text/plain": [
       "[1, 2, 3, 4, 5, 6]"
      ]
     },
     "execution_count": 3,
     "metadata": {},
     "output_type": "execute_result"
    }
   ],
   "source": [
    "s = \"1 2 3 4 5 6\"\n",
    "li = s.split()\n",
    "numList = []\n",
    "for i in li:\n",
    "    numList.append(int(i))\n",
    "numList"
   ]
  },
  {
   "cell_type": "markdown",
   "metadata": {},
   "source": [
    "### Find Sum of Squares of natural numbers"
   ]
  },
  {
   "cell_type": "code",
   "execution_count": 12,
   "metadata": {},
   "outputs": [
    {
     "name": "stdout",
     "output_type": "stream",
     "text": [
      "3\n"
     ]
    },
    {
     "data": {
      "text/plain": [
       "14"
      ]
     },
     "execution_count": 12,
     "metadata": {},
     "output_type": "execute_result"
    }
   ],
   "source": [
    "n = int(input())\n",
    "def sumOfSquares(n):\n",
    "    sum = 0\n",
    "    for i in range(1,n+1):\n",
    "        sum = sum + i*i\n",
    "    return sum\n",
    "    \n",
    "sumOfSquares(n)"
   ]
  },
  {
   "cell_type": "markdown",
   "metadata": {},
   "source": [
    "### Print the number closest to zero. If there are multiple elements then print the largest number"
   ]
  },
  {
   "cell_type": "code",
   "execution_count": 2,
   "metadata": {},
   "outputs": [
    {
     "data": {
      "text/plain": [
       "-1"
      ]
     },
     "execution_count": 2,
     "metadata": {},
     "output_type": "execute_result"
    }
   ],
   "source": [
    "lst = [2,3,-1,1]\n",
    "min((abs(x), x) for x in lst)[1]"
   ]
  },
  {
   "cell_type": "markdown",
   "metadata": {},
   "source": [
    "## Explanation ##\n",
    "- li = [3,2,-1,-2,-3] (Original List)\n",
    "- Sort the data\n",
    "- li = [-3,-2,-1,2,3] (Sorted List)\n",
    "- pl = [1,2,2,3,3] (Positive Sorted List)\n",
    "- pl[0] -> Check if this number is -ve or +ve in the original list\n",
    "- if pl[0] in li:\n",
    "    - return pl[0]\n",
    "- else\n",
    "    - return abs(pl[0])\n"
   ]
  },
  {
   "cell_type": "code",
   "execution_count": 27,
   "metadata": {},
   "outputs": [
    {
     "name": "stdout",
     "output_type": "stream",
     "text": [
      "[-10, -2, -1, 1, 9]\n",
      "[1, 1, 2, 9, 10]\n",
      "1\n"
     ]
    }
   ],
   "source": [
    "originallist = [-1,-2,1,-10,9]\n",
    "\n",
    "originallist.sort()\n",
    "\n",
    "print(originallist)\n",
    "\n",
    "pl = []\n",
    "\n",
    "for i in originallist:\n",
    "    pl.append(abs(i))\n",
    "\n",
    "pl.sort()\n",
    "\n",
    "print(pl)\n",
    "\n",
    "if pl[0] in originallist:\n",
    "    print(pl[0]) \n",
    "else:\n",
    "    print(-pl[0])"
   ]
  },
  {
   "cell_type": "markdown",
   "metadata": {},
   "source": [
    "### Print the number farthest to zero. If there are multiple elements then print the largest number"
   ]
  },
  {
   "cell_type": "code",
   "execution_count": 25,
   "metadata": {},
   "outputs": [
    {
     "name": "stdout",
     "output_type": "stream",
     "text": [
      "[1, 1, 2, 9, 10, 10]\n",
      "10\n"
     ]
    }
   ],
   "source": [
    "originallist = [-1,-2,1,-10,9,10]\n",
    "\n",
    "originallist.sort()\n",
    "\n",
    "pl = []\n",
    "\n",
    "for i in originallist:\n",
    "    pl.append(abs(i))\n",
    "\n",
    "pl.sort()\n",
    "\n",
    "print(pl)\n",
    "\n",
    "if pl[len(pl)-1] in originallist:\n",
    "    print(pl[len(pl)-1]) \n",
    "else:\n",
    "    print(-pl[len(pl)-1])"
   ]
  },
  {
   "cell_type": "markdown",
   "metadata": {},
   "source": [
    "### Given three numbers a,b,c. Write a program to find the largest number which is less than or equal to c and leaves remainder b when divided by a.\n",
    "\n"
   ]
  },
  {
   "cell_type": "code",
   "execution_count": 31,
   "metadata": {},
   "outputs": [
    {
     "data": {
      "text/plain": [
       "-1"
      ]
     },
     "execution_count": 31,
     "metadata": {},
     "output_type": "execute_result"
    }
   ],
   "source": [
    "def largest(a,b,c):\n",
    "    for i in range(c, a-1 , -1):\n",
    "        if i % a == b:\n",
    "            return i\n",
    "    return -1\n",
    "   \n",
    "largest(1,2,4)"
   ]
  },
  {
   "cell_type": "markdown",
   "metadata": {},
   "source": [
    "## HackerEarth Practice Problem 1\n",
    "\n",
    "### Count of Divisors\n",
    "\n",
    "#### You have been given 3 integers - l, r and k. Find how many numbers between l and r (both inclusive) are divisible by k. You do not need to print these numbers, you just have to find their count.\n",
    "\n",
    "### Input Format\n",
    "#### The first and only line of input contains 3 space separated integers l, r and k.\n",
    "\n",
    "### Output Format\n",
    "#### Print the required answer on a single line.\n",
    "\n",
    "\n",
    " \n",
    "\n"
   ]
  },
  {
   "cell_type": "code",
   "execution_count": 37,
   "metadata": {},
   "outputs": [
    {
     "name": "stdout",
     "output_type": "stream",
     "text": [
      "1 10 5\n"
     ]
    },
    {
     "data": {
      "text/plain": [
       "2"
      ]
     },
     "execution_count": 37,
     "metadata": {},
     "output_type": "execute_result"
    }
   ],
   "source": [
    "def CountDivisors(l,r,k):\n",
    "    count = 0\n",
    "    for i in range(l,r+1):\n",
    "        if k % i  == 0:\n",
    "            count+=1\n",
    "    return count\n",
    "s = input()\n",
    "li = s.split()\n",
    "li\n",
    "CountDivisors(int(li[0]),int(li[1]),int(li[2]))"
   ]
  },
  {
   "cell_type": "markdown",
   "metadata": {},
   "source": [
    "## ## HackerEarth Practice Problem 2\n",
    "\n",
    "### Factorial \n",
    "\n",
    "#### You have been given a positive integer N. You need to find and print the Factorial of this number. The Factorial of a positive integer N refers to the product of all number in the range from 1 to N. You can read more about the factorial of a number here.\n",
    "\n",
    "### Input Format:\n",
    "#### The first and only line of the input contains a single integer N denoting the number whose factorial you need to find.\n",
    "\n",
    "### Output Format\n",
    "#### Output a single line denoting the factorial of the number N."
   ]
  },
  {
   "cell_type": "code",
   "execution_count": 38,
   "metadata": {},
   "outputs": [
    {
     "name": "stdout",
     "output_type": "stream",
     "text": [
      "0\n"
     ]
    }
   ],
   "source": [
    "def fact(n):\n",
    "    f = 1\n",
    "    for i in range(n+1):\n",
    "        f = f * i\n",
    "    print(f)\n",
    "fact(2)"
   ]
  },
  {
   "cell_type": "markdown",
   "metadata": {},
   "source": [
    "## HackerEarth Practice Problem 3\n",
    "\n",
    "### Palindrome\n",
    "\n",
    "### You have been given a String S. You need to find and print whether this string is a palindrome or not. If yes, print \"YES\" (without quotes), else print \"NO\" (without quotes).\n",
    "\n",
    "### Input Format\n",
    "#### The first and only line of input contains the String S. The String shall consist of lowercase English alphabets only.\n",
    "\n",
    "### Output Format\n",
    "#### Print the required answer on a single line."
   ]
  },
  {
   "cell_type": "code",
   "execution_count": 41,
   "metadata": {},
   "outputs": [
    {
     "name": "stdout",
     "output_type": "stream",
     "text": [
      "dad\n",
      "YES\n"
     ]
    }
   ],
   "source": [
    "def isPalindrome(s):\n",
    "    reverseString = s[::-1]\n",
    "    if s == reverseString:\n",
    "        print(\"YES\")\n",
    "    else:\n",
    "        print(\"NO\")\n",
    "        \n",
    "s = input()\n",
    "isPalindrome(s.lower())"
   ]
  },
  {
   "cell_type": "markdown",
   "metadata": {},
   "source": [
    "## HackerEarth Practice Problem 4\n",
    "\n",
    "### Toggle String\n",
    "\n",
    "#### You have been given a String S consisting of uppercase and lowercase English alphabets. You need to change the case of each alphabet in this String. That is, all the uppercase letters should be converted to lowercase and all the lowercase letters should be converted to uppercase. You need to then print the resultant String to output.\n",
    "\n",
    "### Input Format\n",
    "#### The first and only line of input contains the String S\n",
    "\n",
    "### Output Format\n",
    "#### Print the resultant String on a single line."
   ]
  },
  {
   "cell_type": "code",
   "execution_count": 51,
   "metadata": {},
   "outputs": [
    {
     "name": "stdout",
     "output_type": "stream",
     "text": [
      "ABCd\n"
     ]
    }
   ],
   "source": [
    "def toggleString(s):\n",
    "    output_s = ''\n",
    "    for i in s:\n",
    "        if i.islower():\n",
    "            output_s = output_s+i.upper()\n",
    "        elif i.isupper():\n",
    "            output_s = output_s+i.lower()\n",
    "    print(output_s)\n",
    "toggleString(\"abcD\")"
   ]
  },
  {
   "cell_type": "markdown",
   "metadata": {},
   "source": [
    "## HackerEarth Practice Problem 5\n",
    "\n",
    "### CharSum\n",
    "\n",
    "#### Consider All lowercase Alphabets of the English language. Here we consider each alphabet from a to z to have a certain weight. The weight of the alphabet a is considered to be 1, b to be 2, c to be 3 and so on until z has a weight of 26. In short, the weight of the alphabet a is 1, and the weight of all other alphabets is the weight of its previous alphabet + 1.\n",
    "\n",
    "#### Now, you have been given a String S consisting of lowercase English characters. You need to find the summation of weight of each character in this String.\n",
    "\n",
    "#### For example, Consider the String aba\n",
    "\n",
    "#### Here, the first character a has a weight of 1, the second character b has 2 and the third character a again has a weight of 1. So the summation here is equal to : 1+2+1=4\n",
    "\n",
    "### Input Format:\n",
    "\n",
    "#### The first and only line of input contains the String S.\n",
    "\n",
    "### Output Format:\n",
    "\n",
    "#### Print the required answer on a single line"
   ]
  },
  {
   "cell_type": "code",
   "execution_count": 2,
   "metadata": {},
   "outputs": [
    {
     "name": "stdout",
     "output_type": "stream",
     "text": [
      "abc\n",
      "6\n"
     ]
    }
   ],
   "source": [
    "def charSum(s):\n",
    "    sum = 0\n",
    "    for c in s:\n",
    "        sum = sum + ord(c) - 96\n",
    "    print(sum)\n",
    "\n",
    "s = input()\n",
    "charSum(s)"
   ]
  },
  {
   "cell_type": "code",
   "execution_count": 12,
   "metadata": {},
   "outputs": [
    {
     "data": {
      "text/plain": [
       "[1, 3, 6, 10, 15]"
      ]
     },
     "execution_count": 12,
     "metadata": {},
     "output_type": "execute_result"
    }
   ],
   "source": [
    "s = \"1 2 3 4 5\"\n",
    "l = list(map(int,s.split()))\n",
    "sa = []\n",
    "sum = 0\n",
    "for i in l:\n",
    "    sum = sum+i\n",
    "    sa.append(sum)\n",
    "sa\n",
    "    "
   ]
  },
  {
   "cell_type": "markdown",
   "metadata": {},
   "source": [
    "## HackerEarth Practice Problem 6\n",
    "\n",
    "### Play With Numbers\n",
    "\n",
    "#### You are given an array of n numbers and q queries. For each query you have to print the floor of the expected value(mean) of the subarray from L to R.\n",
    "\n",
    "### Input\n",
    "\n",
    "#### First line contains two integers N and Q denoting number of array elements and number of queries.\n",
    "\n",
    "#### Next line contains N space seperated integers denoting array elements.\n",
    "\n",
    "#### Next Q lines contain two integers L and R(indices of the array).\n",
    "\n",
    "### Output\n",
    "\n",
    "#### print a single integer denoting the answer."
   ]
  },
  {
   "cell_type": "code",
   "execution_count": 2,
   "metadata": {},
   "outputs": [
    {
     "name": "stdout",
     "output_type": "stream",
     "text": [
      "5 3\n",
      "1 2 3 4 5\n",
      "1 3\n",
      "2\n",
      "2 4\n",
      "3\n",
      "2 5\n",
      "3\n"
     ]
    }
   ],
   "source": [
    "def playWithNumbers(sa,lb,ub):\n",
    "   \n",
    "    if lb == 1:\n",
    "        s = sa[ub-1]\n",
    "    else:\n",
    "        s = sa[ub-1]-sa[lb-2]\n",
    "    \n",
    "    print(s // ((ub - lb)+1))\n",
    "\n",
    "\n",
    "\n",
    "\n",
    "\n",
    "i = input().split()\n",
    "\n",
    "n = int(i[0])\n",
    "q = int(i[1])\n",
    "\n",
    "arr = input()\n",
    "\n",
    "l = list(map(int,arr.split()))\n",
    " \n",
    "sa = []\n",
    "    \n",
    "sum = 0\n",
    "    \n",
    "for i in l:\n",
    "    sum = sum+i\n",
    "    sa.append(sum)\n",
    "\n",
    "\n",
    "for j in range(q):\n",
    "    s = input().split()\n",
    "    \n",
    "    lb = int(s[0])\n",
    "    ub = int(s[1])\n",
    "    \n",
    "    playWithNumbers(sa,lb,ub)\n",
    "    \n"
   ]
  },
  {
   "cell_type": "markdown",
   "metadata": {},
   "source": [
    "## HackerEarth Practice Problem 7\n",
    "\n",
    "### Duration\n",
    "\n",
    "#### Rahul is a very busy persion he dont wan't to waste his time . He keeps account of duration of each and every work. Now he don't even get time to calculate duration of works, So your job is to count the durations for each work and give it to rahul.\n",
    "\n",
    " \n",
    "\n",
    "### Input:\n",
    "\n",
    "#### First line will be given by N number of works\n",
    "#### Next N line will be given SH,SM,EH and EM  each separated by space(SH=starting hr, SM=starting min, EH=ending hr, EM=ending min)\n",
    "\n",
    "### Output:\n",
    "\n",
    "#### N lines with duration HH MM(hours and minutes separated by space)"
   ]
  },
  {
   "cell_type": "code",
   "execution_count": 3,
   "metadata": {},
   "outputs": [
    {
     "name": "stdout",
     "output_type": "stream",
     "text": [
      "2\n",
      "1 44 2 14\n",
      "0 30\n",
      "2 42 8 14\n",
      "5 32\n"
     ]
    }
   ],
   "source": [
    "def duration(sh,sm,eh,em):\n",
    "    h = abs(eh - sh) - 1\n",
    "    m = abs(60 - sm) + em\n",
    "    if m >= 60:\n",
    "        h+=1\n",
    "        m = abs(60 - m)\n",
    "        \n",
    "    print(h, end = \" \")\n",
    "    print(m)\n",
    "    \n",
    " \n",
    " \n",
    "n = int(input())\n",
    "for i in range(n):\n",
    "    s = input()\n",
    "    l = s.split()\n",
    "    \n",
    "    one = int(l[0])\n",
    "    two = int(l[1])\n",
    "    three = int(l[2])\n",
    "    four = int(l[3])\n",
    "    duration(one,two,three,four)"
   ]
  },
  {
   "cell_type": "markdown",
   "metadata": {},
   "source": [
    "## HackerEarth Practice Problem 8\n",
    "\n",
    "### Prime Numbers\n",
    "\n",
    "#### You are given an integer N. You need to print the series of all prime numbers till N.\n",
    "\n",
    "### Input Format\n",
    "\n",
    "#### The first and only line of the input contains a single integer N denoting the number till where you need to find the series of prime number.\n",
    "\n",
    "### Output Format\n",
    "\n",
    "#### Print the desired output in single line separated by spaces."
   ]
  },
  {
   "cell_type": "code",
   "execution_count": 33,
   "metadata": {},
   "outputs": [
    {
     "name": "stdout",
     "output_type": "stream",
     "text": [
      "9\n",
      "2 3 5 7 "
     ]
    }
   ],
   "source": [
    "def isPrime(p):\n",
    "    c = 0\n",
    "    for i in range(2,p//2+1):\n",
    "        if p % i == 0:\n",
    "            c += 1\n",
    "    if c >= 1:\n",
    "        return False\n",
    "    else:\n",
    "        return True\n",
    "\n",
    "def generatePrimes(n):\n",
    "    \n",
    "    for j in range(2,n+1):\n",
    "        \n",
    "        if isPrime(j):\n",
    "            \n",
    "            print(j , end = \" \")\n",
    "\n",
    "n = int(input())\n",
    "generatePrimes(n)"
   ]
  },
  {
   "cell_type": "markdown",
   "metadata": {},
   "source": [
    "## HackerEarth Practice Problem 9\n",
    "\n",
    "### Two Strings\n",
    "\n",
    "#### Given two strings of equal length, you have to tell whether they both strings are identical.\n",
    "\n",
    "#### Two strings S1 and S2 are said to be identical, if any of the permutation of string S1 is equal to the string S2. See Sample explanation for more details.\n",
    "\n",
    "### Input :\n",
    "\n",
    "#### First line, contains an intger 'T' denoting no. of test cases.\n",
    "#### Each test consists of a single line, containing two space separated strings S1 and S2 of equal length.\n",
    "\n",
    "### Output:\n",
    "\n",
    "#### For each test case, if any of the permutation of string S1 is equal to the string S2 print YES else print NO."
   ]
  },
  {
   "cell_type": "code",
   "execution_count": 35,
   "metadata": {},
   "outputs": [
    {
     "name": "stdout",
     "output_type": "stream",
     "text": [
      "sa as\n"
     ]
    },
    {
     "data": {
      "text/plain": [
       "'as'"
      ]
     },
     "execution_count": 35,
     "metadata": {},
     "output_type": "execute_result"
    }
   ],
   "source": [
    "n = input().split()\n",
    "\n",
    "s1 = n[0]\n",
    "\n",
    "s2 = n[1]\n",
    "\n",
    "s2"
   ]
  },
  {
   "cell_type": "code",
   "execution_count": null,
   "metadata": {},
   "outputs": [],
   "source": []
  }
 ],
 "metadata": {
  "kernelspec": {
   "display_name": "Python 3",
   "language": "python",
   "name": "python3"
  },
  "language_info": {
   "codemirror_mode": {
    "name": "ipython",
    "version": 3
   },
   "file_extension": ".py",
   "mimetype": "text/x-python",
   "name": "python",
   "nbconvert_exporter": "python",
   "pygments_lexer": "ipython3",
   "version": "3.7.3"
  }
 },
 "nbformat": 4,
 "nbformat_minor": 2
}
