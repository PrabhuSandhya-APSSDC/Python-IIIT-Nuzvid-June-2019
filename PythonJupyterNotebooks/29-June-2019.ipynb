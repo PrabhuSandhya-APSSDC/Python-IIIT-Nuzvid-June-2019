{
 "cells": [
  {
   "cell_type": "markdown",
   "metadata": {},
   "source": [
    "\n",
    "\n",
    "## Day Objectives\n",
    "\n",
    "- Python Libraries for Data Science\n",
    "    - Numpy\n"
   ]
  },
  {
   "cell_type": "markdown",
   "metadata": {},
   "source": [
    "### Numpy Library\n",
    "\n",
    "- Processing N-Dimensional Arrays"
   ]
  },
  {
   "cell_type": "code",
   "execution_count": 5,
   "metadata": {},
   "outputs": [
    {
     "data": {
      "text/plain": [
       "array([0, 1, 2, 3, 4, 5, 6, 7, 8, 9])"
      ]
     },
     "execution_count": 5,
     "metadata": {},
     "output_type": "execute_result"
    }
   ],
   "source": [
    "import numpy as np\n",
    "\n",
    "li =[1,2,3]\n",
    "\n",
    "a = np.array(li) ## Converts the list into array. Array must contain only homogeneous elements.\n",
    "\n",
    "b = np.arange(10) ## Adds 10 elements from 0 to 9 into an array.\n",
    "\n",
    "b"
   ]
  },
  {
   "cell_type": "code",
   "execution_count": 45,
   "metadata": {},
   "outputs": [
    {
     "name": "stdout",
     "output_type": "stream",
     "text": [
      "[[[[43 27 99]\n",
      "   [44 97 64]\n",
      "   [ 2 34 70]]\n",
      "\n",
      "  [[20 32 65]\n",
      "   [30 74 21]\n",
      "   [17 67 97]]\n",
      "\n",
      "  [[22 53 31]\n",
      "   [23 51 97]\n",
      "   [86 45 41]]]\n",
      "\n",
      "\n",
      " [[[85 83 28]\n",
      "   [ 9 55 63]\n",
      "   [29 87 51]]\n",
      "\n",
      "  [[65 44  8]\n",
      "   [69 25 91]\n",
      "   [51  1 38]]\n",
      "\n",
      "  [[16  8 65]\n",
      "   [ 4 89 41]\n",
      "   [64 89 85]]]\n",
      "\n",
      "\n",
      " [[[ 1 35  2]\n",
      "   [38 49 46]\n",
      "   [19 91 35]]\n",
      "\n",
      "  [[79 29 84]\n",
      "   [93 81 11]\n",
      "   [32 71 19]]\n",
      "\n",
      "  [[14  1 71]\n",
      "   [97 79 12]\n",
      "   [74 35 13]]]]\n"
     ]
    },
    {
     "data": {
      "text/plain": [
       "13"
      ]
     },
     "execution_count": 45,
     "metadata": {},
     "output_type": "execute_result"
    }
   ],
   "source": [
    "## Create array using numpy and random.\n",
    "random_nums = np.random.randint(0,100,size=10) #one-dimensional array\n",
    "random_nums = np.random.randint(0,100,size = (2,1)) #Two Dimentional array\n",
    "random_nums = np.random.randint(0,100,size = (3,3,3,3)) #Three Dimensional array\n",
    "print(random_nums)\n",
    "random_nums[0][0][0]\n",
    "random_nums[2][2][2][2]"
   ]
  },
  {
   "cell_type": "code",
   "execution_count": 32,
   "metadata": {},
   "outputs": [
    {
     "data": {
      "text/plain": [
       "4"
      ]
     },
     "execution_count": 32,
     "metadata": {},
     "output_type": "execute_result"
    }
   ],
   "source": [
    "random_nums.ndim ## returns the no.of dimensions of an array."
   ]
  },
  {
   "cell_type": "code",
   "execution_count": 33,
   "metadata": {},
   "outputs": [
    {
     "data": {
      "text/plain": [
       "108"
      ]
     },
     "execution_count": 33,
     "metadata": {},
     "output_type": "execute_result"
    }
   ],
   "source": [
    "random_nums.size ## returns no.of elements in an array"
   ]
  },
  {
   "cell_type": "code",
   "execution_count": 35,
   "metadata": {},
   "outputs": [
    {
     "data": {
      "text/plain": [
       "[4, 5]"
      ]
     },
     "execution_count": 35,
     "metadata": {},
     "output_type": "execute_result"
    }
   ],
   "source": [
    "li = [1,2,3,4,5]\n",
    "li[-2:]"
   ]
  },
  {
   "cell_type": "code",
   "execution_count": 47,
   "metadata": {},
   "outputs": [
    {
     "data": {
      "text/plain": [
       "dtype('int32')"
      ]
     },
     "execution_count": 47,
     "metadata": {},
     "output_type": "execute_result"
    }
   ],
   "source": [
    "random_nums.dtype ## returns type of data"
   ]
  },
  {
   "cell_type": "code",
   "execution_count": 52,
   "metadata": {},
   "outputs": [
    {
     "name": "stdout",
     "output_type": "stream",
     "text": [
      "[1 2 3 4 5 6 7 8 9]\n"
     ]
    },
    {
     "data": {
      "text/plain": [
       "array([[1, 2, 3],\n",
       "       [4, 5, 6],\n",
       "       [7, 8, 9]])"
      ]
     },
     "execution_count": 52,
     "metadata": {},
     "output_type": "execute_result"
    }
   ],
   "source": [
    "li = [1,2,3,4,5,6,7,8,9]\n",
    "a = np.array(li)\n",
    "print(a)\n",
    "a.reshape(3,3)"
   ]
  },
  {
   "cell_type": "code",
   "execution_count": 56,
   "metadata": {},
   "outputs": [
    {
     "data": {
      "text/plain": [
       "array([[1., 1., 1., 1.],\n",
       "       [1., 1., 1., 1.],\n",
       "       [1., 1., 1., 1.],\n",
       "       [1., 1., 1., 1.]])"
      ]
     },
     "execution_count": 56,
     "metadata": {},
     "output_type": "execute_result"
    }
   ],
   "source": [
    "m = np.ones((4,4))\n",
    "m"
   ]
  },
  {
   "cell_type": "code",
   "execution_count": null,
   "metadata": {},
   "outputs": [],
   "source": []
  }
 ],
 "metadata": {
  "kernelspec": {
   "display_name": "Python 3",
   "language": "python",
   "name": "python3"
  },
  "language_info": {
   "codemirror_mode": {
    "name": "ipython",
    "version": 3
   },
   "file_extension": ".py",
   "mimetype": "text/x-python",
   "name": "python",
   "nbconvert_exporter": "python",
   "pygments_lexer": "ipython3",
   "version": "3.7.3"
  }
 },
 "nbformat": 4,
 "nbformat_minor": 2
}
